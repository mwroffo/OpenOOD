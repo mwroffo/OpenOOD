{
  "nbformat": 4,
  "nbformat_minor": 0,
  "metadata": {
    "colab": {
      "provenance": [],
      "gpuType": "T4",
      "include_colab_link": true
    },
    "kernelspec": {
      "name": "python3",
      "display_name": "Python 3"
    },
    "language_info": {
      "name": "python"
    },
    "accelerator": "GPU"
  },
  "cells": [
    {
      "cell_type": "markdown",
      "metadata": {
        "id": "view-in-github",
        "colab_type": "text"
      },
      "source": [
        "<a href=\"https://colab.research.google.com/github/mwroffo/OpenOOD/blob/main/openood_evaluator_tutorial.ipynb\" target=\"_parent\"><img src=\"https://colab.research.google.com/assets/colab-badge.svg\" alt=\"Open In Colab\"/></a>"
      ]
    },
    {
      "cell_type": "markdown",
      "source": [
        "In this notebook, we will showcase how to use OpenOOD's unified evaluator to easily evaluate OOD detection performance w.r.t. a certain ID dataset (e.g., CIFAR-10, ImageNet-1K), given a trained base classifier (e.g., ResNet) and a postprocessor (e.g., MSP, ReAct). Here we use CIFAR-10 as an example (due to speed concern), yet this tutorial also generalizes to larger datasets including ImageNet-1K. **Remember to use GPU in Edit / Notebook settings.**\n",
        "\n",
        "Expect Python 3.11.11"
      ],
      "metadata": {
        "id": "sXtASgVQT8pZ"
      }
    },
    {
      "cell_type": "code",
      "source": [
        "!python --version"
      ],
      "metadata": {
        "id": "AdaYF183c2O7",
        "outputId": "4687e4cb-1e7a-4c52-fcb1-05d9de3ac935",
        "colab": {
          "base_uri": "https://localhost:8080/"
        }
      },
      "execution_count": 6,
      "outputs": [
        {
          "output_type": "stream",
          "name": "stdout",
          "text": [
            "Python 3.11.11\n"
          ]
        }
      ]
    },
    {
      "cell_type": "markdown",
      "source": [
        "1. Install OpenOOD with pip and make necessary preparation"
      ],
      "metadata": {
        "id": "k4KGROHCk5b-"
      }
    },
    {
      "cell_type": "code",
      "execution_count": 2,
      "metadata": {
        "colab": {
          "base_uri": "https://localhost:8080/",
          "height": 1000
        },
        "id": "FZnYwXFgjBcE",
        "outputId": "f7a5655d-c39d-4aaf-c7f8-ff92c8a8a832"
      },
      "outputs": [
        {
          "output_type": "stream",
          "name": "stdout",
          "text": [
            "Collecting git+https://github.com/mwroffo/OpenOOD\n",
            "  Cloning https://github.com/mwroffo/OpenOOD to /tmp/pip-req-build-2k4uko_y\n",
            "  Running command git clone --filter=blob:none --quiet https://github.com/mwroffo/OpenOOD /tmp/pip-req-build-2k4uko_y\n",
            "  Resolved https://github.com/mwroffo/OpenOOD to commit b4b2fe9d4407c3679902e6f27707160ca4ac766c\n",
            "  Preparing metadata (setup.py) ... \u001b[?25l\u001b[?25hdone\n",
            "Requirement already satisfied: torch>=1.13.1 in /usr/local/lib/python3.11/dist-packages (from openood==1.5) (2.6.0+cu124)\n",
            "Requirement already satisfied: torchvision>=0.13 in /usr/local/lib/python3.11/dist-packages (from openood==1.5) (0.21.0+cu124)\n",
            "Requirement already satisfied: scikit-learn in /usr/local/lib/python3.11/dist-packages (from openood==1.5) (1.6.1)\n",
            "Collecting json5 (from openood==1.5)\n",
            "  Using cached json5-0.12.0-py3-none-any.whl.metadata (36 kB)\n",
            "Requirement already satisfied: matplotlib in /usr/local/lib/python3.11/dist-packages (from openood==1.5) (3.10.0)\n",
            "Requirement already satisfied: scipy in /usr/local/lib/python3.11/dist-packages (from openood==1.5) (1.14.1)\n",
            "Requirement already satisfied: tqdm in /usr/local/lib/python3.11/dist-packages (from openood==1.5) (4.67.1)\n",
            "Requirement already satisfied: pyyaml>=5.4.1 in /usr/local/lib/python3.11/dist-packages (from openood==1.5) (6.0.2)\n",
            "Collecting pre-commit (from openood==1.5)\n",
            "  Using cached pre_commit-4.2.0-py2.py3-none-any.whl.metadata (1.3 kB)\n",
            "Requirement already satisfied: opencv-python>=4.4.0.46 in /usr/local/lib/python3.11/dist-packages (from openood==1.5) (4.11.0.86)\n",
            "Collecting imgaug>=0.4.0 (from openood==1.5)\n",
            "  Using cached imgaug-0.4.0-py2.py3-none-any.whl.metadata (1.8 kB)\n",
            "Requirement already satisfied: pandas in /usr/local/lib/python3.11/dist-packages (from openood==1.5) (2.2.2)\n",
            "Collecting diffdist>=0.1 (from openood==1.5)\n",
            "  Using cached diffdist-0.1.tar.gz (4.6 kB)\n",
            "  Preparing metadata (setup.py) ... \u001b[?25l\u001b[?25hdone\n",
            "Requirement already satisfied: Cython>=0.29.30 in /usr/local/lib/python3.11/dist-packages (from openood==1.5) (3.0.12)\n",
            "Collecting faiss-cpu>=1.7.2 (from openood==1.5)\n",
            "  Downloading faiss_cpu-1.10.0-cp311-cp311-manylinux_2_28_x86_64.whl.metadata (4.4 kB)\n",
            "Collecting numpy==1.25.2 (from openood==1.5)\n",
            "  Downloading numpy-1.25.2-cp311-cp311-manylinux_2_17_x86_64.manylinux2014_x86_64.whl.metadata (5.6 kB)\n",
            "Requirement already satisfied: statsmodels in /usr/local/lib/python3.11/dist-packages (from openood==1.5) (0.14.4)\n",
            "Requirement already satisfied: gdown>=4.7.1 in /usr/local/lib/python3.11/dist-packages (from openood==1.5) (5.2.0)\n",
            "Requirement already satisfied: packaging in /usr/local/lib/python3.11/dist-packages (from faiss-cpu>=1.7.2->openood==1.5) (24.2)\n",
            "Requirement already satisfied: beautifulsoup4 in /usr/local/lib/python3.11/dist-packages (from gdown>=4.7.1->openood==1.5) (4.13.3)\n",
            "Requirement already satisfied: filelock in /usr/local/lib/python3.11/dist-packages (from gdown>=4.7.1->openood==1.5) (3.18.0)\n",
            "Requirement already satisfied: requests[socks] in /usr/local/lib/python3.11/dist-packages (from gdown>=4.7.1->openood==1.5) (2.32.3)\n",
            "Requirement already satisfied: six in /usr/local/lib/python3.11/dist-packages (from imgaug>=0.4.0->openood==1.5) (1.17.0)\n",
            "Requirement already satisfied: Pillow in /usr/local/lib/python3.11/dist-packages (from imgaug>=0.4.0->openood==1.5) (11.1.0)\n",
            "Requirement already satisfied: scikit-image>=0.14.2 in /usr/local/lib/python3.11/dist-packages (from imgaug>=0.4.0->openood==1.5) (0.25.2)\n",
            "Requirement already satisfied: imageio in /usr/local/lib/python3.11/dist-packages (from imgaug>=0.4.0->openood==1.5) (2.37.0)\n",
            "Requirement already satisfied: Shapely in /usr/local/lib/python3.11/dist-packages (from imgaug>=0.4.0->openood==1.5) (2.0.7)\n",
            "Requirement already satisfied: typing-extensions>=4.10.0 in /usr/local/lib/python3.11/dist-packages (from torch>=1.13.1->openood==1.5) (4.13.0)\n",
            "Requirement already satisfied: networkx in /usr/local/lib/python3.11/dist-packages (from torch>=1.13.1->openood==1.5) (3.4.2)\n",
            "Requirement already satisfied: jinja2 in /usr/local/lib/python3.11/dist-packages (from torch>=1.13.1->openood==1.5) (3.1.6)\n",
            "Requirement already satisfied: fsspec in /usr/local/lib/python3.11/dist-packages (from torch>=1.13.1->openood==1.5) (2025.3.2)\n",
            "Collecting nvidia-cuda-nvrtc-cu12==12.4.127 (from torch>=1.13.1->openood==1.5)\n",
            "  Downloading nvidia_cuda_nvrtc_cu12-12.4.127-py3-none-manylinux2014_x86_64.whl.metadata (1.5 kB)\n",
            "Collecting nvidia-cuda-runtime-cu12==12.4.127 (from torch>=1.13.1->openood==1.5)\n",
            "  Downloading nvidia_cuda_runtime_cu12-12.4.127-py3-none-manylinux2014_x86_64.whl.metadata (1.5 kB)\n",
            "Collecting nvidia-cuda-cupti-cu12==12.4.127 (from torch>=1.13.1->openood==1.5)\n",
            "  Downloading nvidia_cuda_cupti_cu12-12.4.127-py3-none-manylinux2014_x86_64.whl.metadata (1.6 kB)\n",
            "Collecting nvidia-cudnn-cu12==9.1.0.70 (from torch>=1.13.1->openood==1.5)\n",
            "  Downloading nvidia_cudnn_cu12-9.1.0.70-py3-none-manylinux2014_x86_64.whl.metadata (1.6 kB)\n",
            "Collecting nvidia-cublas-cu12==12.4.5.8 (from torch>=1.13.1->openood==1.5)\n",
            "  Downloading nvidia_cublas_cu12-12.4.5.8-py3-none-manylinux2014_x86_64.whl.metadata (1.5 kB)\n",
            "Collecting nvidia-cufft-cu12==11.2.1.3 (from torch>=1.13.1->openood==1.5)\n",
            "  Downloading nvidia_cufft_cu12-11.2.1.3-py3-none-manylinux2014_x86_64.whl.metadata (1.5 kB)\n",
            "Collecting nvidia-curand-cu12==10.3.5.147 (from torch>=1.13.1->openood==1.5)\n",
            "  Downloading nvidia_curand_cu12-10.3.5.147-py3-none-manylinux2014_x86_64.whl.metadata (1.5 kB)\n",
            "Collecting nvidia-cusolver-cu12==11.6.1.9 (from torch>=1.13.1->openood==1.5)\n",
            "  Downloading nvidia_cusolver_cu12-11.6.1.9-py3-none-manylinux2014_x86_64.whl.metadata (1.6 kB)\n",
            "Collecting nvidia-cusparse-cu12==12.3.1.170 (from torch>=1.13.1->openood==1.5)\n",
            "  Downloading nvidia_cusparse_cu12-12.3.1.170-py3-none-manylinux2014_x86_64.whl.metadata (1.6 kB)\n",
            "Requirement already satisfied: nvidia-cusparselt-cu12==0.6.2 in /usr/local/lib/python3.11/dist-packages (from torch>=1.13.1->openood==1.5) (0.6.2)\n",
            "Requirement already satisfied: nvidia-nccl-cu12==2.21.5 in /usr/local/lib/python3.11/dist-packages (from torch>=1.13.1->openood==1.5) (2.21.5)\n",
            "Requirement already satisfied: nvidia-nvtx-cu12==12.4.127 in /usr/local/lib/python3.11/dist-packages (from torch>=1.13.1->openood==1.5) (12.4.127)\n",
            "Collecting nvidia-nvjitlink-cu12==12.4.127 (from torch>=1.13.1->openood==1.5)\n",
            "  Downloading nvidia_nvjitlink_cu12-12.4.127-py3-none-manylinux2014_x86_64.whl.metadata (1.5 kB)\n",
            "Requirement already satisfied: triton==3.2.0 in /usr/local/lib/python3.11/dist-packages (from torch>=1.13.1->openood==1.5) (3.2.0)\n",
            "Requirement already satisfied: sympy==1.13.1 in /usr/local/lib/python3.11/dist-packages (from torch>=1.13.1->openood==1.5) (1.13.1)\n",
            "Requirement already satisfied: mpmath<1.4,>=1.1.0 in /usr/local/lib/python3.11/dist-packages (from sympy==1.13.1->torch>=1.13.1->openood==1.5) (1.3.0)\n",
            "Requirement already satisfied: contourpy>=1.0.1 in /usr/local/lib/python3.11/dist-packages (from matplotlib->openood==1.5) (1.3.1)\n",
            "Requirement already satisfied: cycler>=0.10 in /usr/local/lib/python3.11/dist-packages (from matplotlib->openood==1.5) (0.12.1)\n",
            "Requirement already satisfied: fonttools>=4.22.0 in /usr/local/lib/python3.11/dist-packages (from matplotlib->openood==1.5) (4.56.0)\n",
            "Requirement already satisfied: kiwisolver>=1.3.1 in /usr/local/lib/python3.11/dist-packages (from matplotlib->openood==1.5) (1.4.8)\n",
            "Requirement already satisfied: pyparsing>=2.3.1 in /usr/local/lib/python3.11/dist-packages (from matplotlib->openood==1.5) (3.2.3)\n",
            "Requirement already satisfied: python-dateutil>=2.7 in /usr/local/lib/python3.11/dist-packages (from matplotlib->openood==1.5) (2.8.2)\n",
            "Requirement already satisfied: pytz>=2020.1 in /usr/local/lib/python3.11/dist-packages (from pandas->openood==1.5) (2025.2)\n",
            "Requirement already satisfied: tzdata>=2022.7 in /usr/local/lib/python3.11/dist-packages (from pandas->openood==1.5) (2025.2)\n",
            "Collecting cfgv>=2.0.0 (from pre-commit->openood==1.5)\n",
            "  Downloading cfgv-3.4.0-py2.py3-none-any.whl.metadata (8.5 kB)\n",
            "Collecting identify>=1.0.0 (from pre-commit->openood==1.5)\n",
            "  Downloading identify-2.6.9-py2.py3-none-any.whl.metadata (4.4 kB)\n",
            "Collecting nodeenv>=0.11.1 (from pre-commit->openood==1.5)\n",
            "  Downloading nodeenv-1.9.1-py2.py3-none-any.whl.metadata (21 kB)\n",
            "Collecting virtualenv>=20.10.0 (from pre-commit->openood==1.5)\n",
            "  Downloading virtualenv-20.30.0-py3-none-any.whl.metadata (4.5 kB)\n",
            "Requirement already satisfied: joblib>=1.2.0 in /usr/local/lib/python3.11/dist-packages (from scikit-learn->openood==1.5) (1.4.2)\n",
            "Requirement already satisfied: threadpoolctl>=3.1.0 in /usr/local/lib/python3.11/dist-packages (from scikit-learn->openood==1.5) (3.6.0)\n",
            "Requirement already satisfied: patsy>=0.5.6 in /usr/local/lib/python3.11/dist-packages (from statsmodels->openood==1.5) (1.0.1)\n",
            "Requirement already satisfied: tifffile>=2022.8.12 in /usr/local/lib/python3.11/dist-packages (from scikit-image>=0.14.2->imgaug>=0.4.0->openood==1.5) (2025.3.30)\n",
            "Requirement already satisfied: lazy-loader>=0.4 in /usr/local/lib/python3.11/dist-packages (from scikit-image>=0.14.2->imgaug>=0.4.0->openood==1.5) (0.4)\n",
            "Collecting distlib<1,>=0.3.7 (from virtualenv>=20.10.0->pre-commit->openood==1.5)\n",
            "  Downloading distlib-0.3.9-py2.py3-none-any.whl.metadata (5.2 kB)\n",
            "Requirement already satisfied: platformdirs<5,>=3.9.1 in /usr/local/lib/python3.11/dist-packages (from virtualenv>=20.10.0->pre-commit->openood==1.5) (4.3.7)\n",
            "Requirement already satisfied: soupsieve>1.2 in /usr/local/lib/python3.11/dist-packages (from beautifulsoup4->gdown>=4.7.1->openood==1.5) (2.6)\n",
            "Requirement already satisfied: MarkupSafe>=2.0 in /usr/local/lib/python3.11/dist-packages (from jinja2->torch>=1.13.1->openood==1.5) (3.0.2)\n",
            "Requirement already satisfied: charset-normalizer<4,>=2 in /usr/local/lib/python3.11/dist-packages (from requests[socks]->gdown>=4.7.1->openood==1.5) (3.4.1)\n",
            "Requirement already satisfied: idna<4,>=2.5 in /usr/local/lib/python3.11/dist-packages (from requests[socks]->gdown>=4.7.1->openood==1.5) (3.10)\n",
            "Requirement already satisfied: urllib3<3,>=1.21.1 in /usr/local/lib/python3.11/dist-packages (from requests[socks]->gdown>=4.7.1->openood==1.5) (2.3.0)\n",
            "Requirement already satisfied: certifi>=2017.4.17 in /usr/local/lib/python3.11/dist-packages (from requests[socks]->gdown>=4.7.1->openood==1.5) (2025.1.31)\n",
            "Requirement already satisfied: PySocks!=1.5.7,>=1.5.6 in /usr/local/lib/python3.11/dist-packages (from requests[socks]->gdown>=4.7.1->openood==1.5) (1.7.1)\n",
            "Downloading numpy-1.25.2-cp311-cp311-manylinux_2_17_x86_64.manylinux2014_x86_64.whl (18.2 MB)\n",
            "\u001b[2K   \u001b[90m━━━━━━━━━━━━━━━━━━━━━━━━━━━━━━━━━━━━━━━━\u001b[0m \u001b[32m18.2/18.2 MB\u001b[0m \u001b[31m101.1 MB/s\u001b[0m eta \u001b[36m0:00:00\u001b[0m\n",
            "\u001b[?25hDownloading faiss_cpu-1.10.0-cp311-cp311-manylinux_2_28_x86_64.whl (30.7 MB)\n",
            "\u001b[2K   \u001b[90m━━━━━━━━━━━━━━━━━━━━━━━━━━━━━━━━━━━━━━━━\u001b[0m \u001b[32m30.7/30.7 MB\u001b[0m \u001b[31m47.9 MB/s\u001b[0m eta \u001b[36m0:00:00\u001b[0m\n",
            "\u001b[?25hDownloading imgaug-0.4.0-py2.py3-none-any.whl (948 kB)\n",
            "\u001b[2K   \u001b[90m━━━━━━━━━━━━━━━━━━━━━━━━━━━━━━━━━━━━━━━━\u001b[0m \u001b[32m948.0/948.0 kB\u001b[0m \u001b[31m50.7 MB/s\u001b[0m eta \u001b[36m0:00:00\u001b[0m\n",
            "\u001b[?25hDownloading nvidia_cublas_cu12-12.4.5.8-py3-none-manylinux2014_x86_64.whl (363.4 MB)\n",
            "\u001b[2K   \u001b[90m━━━━━━━━━━━━━━━━━━━━━━━━━━━━━━━━━━━━━━━━\u001b[0m \u001b[32m363.4/363.4 MB\u001b[0m \u001b[31m5.1 MB/s\u001b[0m eta \u001b[36m0:00:00\u001b[0m\n",
            "\u001b[?25hDownloading nvidia_cuda_cupti_cu12-12.4.127-py3-none-manylinux2014_x86_64.whl (13.8 MB)\n",
            "\u001b[2K   \u001b[90m━━━━━━━━━━━━━━━━━━━━━━━━━━━━━━━━━━━━━━━━\u001b[0m \u001b[32m13.8/13.8 MB\u001b[0m \u001b[31m102.0 MB/s\u001b[0m eta \u001b[36m0:00:00\u001b[0m\n",
            "\u001b[?25hDownloading nvidia_cuda_nvrtc_cu12-12.4.127-py3-none-manylinux2014_x86_64.whl (24.6 MB)\n",
            "\u001b[2K   \u001b[90m━━━━━━━━━━━━━━━━━━━━━━━━━━━━━━━━━━━━━━━━\u001b[0m \u001b[32m24.6/24.6 MB\u001b[0m \u001b[31m85.3 MB/s\u001b[0m eta \u001b[36m0:00:00\u001b[0m\n",
            "\u001b[?25hDownloading nvidia_cuda_runtime_cu12-12.4.127-py3-none-manylinux2014_x86_64.whl (883 kB)\n",
            "\u001b[2K   \u001b[90m━━━━━━━━━━━━━━━━━━━━━━━━━━━━━━━━━━━━━━━━\u001b[0m \u001b[32m883.7/883.7 kB\u001b[0m \u001b[31m55.1 MB/s\u001b[0m eta \u001b[36m0:00:00\u001b[0m\n",
            "\u001b[?25hDownloading nvidia_cudnn_cu12-9.1.0.70-py3-none-manylinux2014_x86_64.whl (664.8 MB)\n",
            "\u001b[2K   \u001b[90m━━━━━━━━━━━━━━━━━━━━━━━━━━━━━━━━━━━━━━━━\u001b[0m \u001b[32m664.8/664.8 MB\u001b[0m \u001b[31m1.0 MB/s\u001b[0m eta \u001b[36m0:00:00\u001b[0m\n",
            "\u001b[?25hDownloading nvidia_cufft_cu12-11.2.1.3-py3-none-manylinux2014_x86_64.whl (211.5 MB)\n",
            "\u001b[2K   \u001b[90m━━━━━━━━━━━━━━━━━━━━━━━━━━━━━━━━━━━━━━━━\u001b[0m \u001b[32m211.5/211.5 MB\u001b[0m \u001b[31m5.4 MB/s\u001b[0m eta \u001b[36m0:00:00\u001b[0m\n",
            "\u001b[?25hDownloading nvidia_curand_cu12-10.3.5.147-py3-none-manylinux2014_x86_64.whl (56.3 MB)\n",
            "\u001b[2K   \u001b[90m━━━━━━━━━━━━━━━━━━━━━━━━━━━━━━━━━━━━━━━━\u001b[0m \u001b[32m56.3/56.3 MB\u001b[0m \u001b[31m12.1 MB/s\u001b[0m eta \u001b[36m0:00:00\u001b[0m\n",
            "\u001b[?25hDownloading nvidia_cusolver_cu12-11.6.1.9-py3-none-manylinux2014_x86_64.whl (127.9 MB)\n",
            "\u001b[2K   \u001b[90m━━━━━━━━━━━━━━━━━━━━━━━━━━━━━━━━━━━━━━━━\u001b[0m \u001b[32m127.9/127.9 MB\u001b[0m \u001b[31m7.3 MB/s\u001b[0m eta \u001b[36m0:00:00\u001b[0m\n",
            "\u001b[?25hDownloading nvidia_cusparse_cu12-12.3.1.170-py3-none-manylinux2014_x86_64.whl (207.5 MB)\n",
            "\u001b[2K   \u001b[90m━━━━━━━━━━━━━━━━━━━━━━━━━━━━━━━━━━━━━━━━\u001b[0m \u001b[32m207.5/207.5 MB\u001b[0m \u001b[31m5.7 MB/s\u001b[0m eta \u001b[36m0:00:00\u001b[0m\n",
            "\u001b[?25hDownloading nvidia_nvjitlink_cu12-12.4.127-py3-none-manylinux2014_x86_64.whl (21.1 MB)\n",
            "\u001b[2K   \u001b[90m━━━━━━━━━━━━━━━━━━━━━━━━━━━━━━━━━━━━━━━━\u001b[0m \u001b[32m21.1/21.1 MB\u001b[0m \u001b[31m86.0 MB/s\u001b[0m eta \u001b[36m0:00:00\u001b[0m\n",
            "\u001b[?25hDownloading json5-0.12.0-py3-none-any.whl (36 kB)\n",
            "Downloading pre_commit-4.2.0-py2.py3-none-any.whl (220 kB)\n",
            "\u001b[2K   \u001b[90m━━━━━━━━━━━━━━━━━━━━━━━━━━━━━━━━━━━━━━━━\u001b[0m \u001b[32m220.7/220.7 kB\u001b[0m \u001b[31m22.1 MB/s\u001b[0m eta \u001b[36m0:00:00\u001b[0m\n",
            "\u001b[?25hDownloading cfgv-3.4.0-py2.py3-none-any.whl (7.2 kB)\n",
            "Downloading identify-2.6.9-py2.py3-none-any.whl (99 kB)\n",
            "\u001b[2K   \u001b[90m━━━━━━━━━━━━━━━━━━━━━━━━━━━━━━━━━━━━━━━━\u001b[0m \u001b[32m99.1/99.1 kB\u001b[0m \u001b[31m9.9 MB/s\u001b[0m eta \u001b[36m0:00:00\u001b[0m\n",
            "\u001b[?25hDownloading nodeenv-1.9.1-py2.py3-none-any.whl (22 kB)\n",
            "Downloading virtualenv-20.30.0-py3-none-any.whl (4.3 MB)\n",
            "\u001b[2K   \u001b[90m━━━━━━━━━━━━━━━━━━━━━━━━━━━━━━━━━━━━━━━━\u001b[0m \u001b[32m4.3/4.3 MB\u001b[0m \u001b[31m111.9 MB/s\u001b[0m eta \u001b[36m0:00:00\u001b[0m\n",
            "\u001b[?25hDownloading distlib-0.3.9-py2.py3-none-any.whl (468 kB)\n",
            "\u001b[2K   \u001b[90m━━━━━━━━━━━━━━━━━━━━━━━━━━━━━━━━━━━━━━━━\u001b[0m \u001b[32m469.0/469.0 kB\u001b[0m \u001b[31m33.6 MB/s\u001b[0m eta \u001b[36m0:00:00\u001b[0m\n",
            "\u001b[?25hBuilding wheels for collected packages: openood, diffdist\n",
            "  Building wheel for openood (setup.py) ... \u001b[?25l\u001b[?25hdone\n",
            "  Created wheel for openood: filename=openood-1.5-py3-none-any.whl size=275164 sha256=47336b4fbd99044bbb95fa1f48e083915a036090f3baeef8bb3d27a3eab62474\n",
            "  Stored in directory: /tmp/pip-ephem-wheel-cache-m99c75j4/wheels/a1/fb/c1/f30916ddd26f0d89552041f33dbe5cec381b18629c8e6aa982\n",
            "  Building wheel for diffdist (setup.py) ... \u001b[?25l\u001b[?25hdone\n",
            "  Created wheel for diffdist: filename=diffdist-0.1-py3-none-any.whl size=6535 sha256=6901162cefbc4327b263dce0b714cbfd39e30b621cecafa95f1e99130d5e0c02\n",
            "  Stored in directory: /root/.cache/pip/wheels/de/03/c0/071168efba5c837a915a5353b8fd613492c0eaeda42e15c962\n",
            "Successfully built openood diffdist\n",
            "Installing collected packages: distlib, diffdist, virtualenv, nvidia-nvjitlink-cu12, nvidia-curand-cu12, nvidia-cufft-cu12, nvidia-cuda-runtime-cu12, nvidia-cuda-nvrtc-cu12, nvidia-cuda-cupti-cu12, nvidia-cublas-cu12, numpy, nodeenv, json5, identify, cfgv, pre-commit, nvidia-cusparse-cu12, nvidia-cudnn-cu12, faiss-cpu, nvidia-cusolver-cu12, imgaug, openood\n",
            "  Attempting uninstall: nvidia-nvjitlink-cu12\n",
            "    Found existing installation: nvidia-nvjitlink-cu12 12.5.82\n",
            "    Uninstalling nvidia-nvjitlink-cu12-12.5.82:\n",
            "      Successfully uninstalled nvidia-nvjitlink-cu12-12.5.82\n",
            "  Attempting uninstall: nvidia-curand-cu12\n",
            "    Found existing installation: nvidia-curand-cu12 10.3.6.82\n",
            "    Uninstalling nvidia-curand-cu12-10.3.6.82:\n",
            "      Successfully uninstalled nvidia-curand-cu12-10.3.6.82\n",
            "  Attempting uninstall: nvidia-cufft-cu12\n",
            "    Found existing installation: nvidia-cufft-cu12 11.2.3.61\n",
            "    Uninstalling nvidia-cufft-cu12-11.2.3.61:\n",
            "      Successfully uninstalled nvidia-cufft-cu12-11.2.3.61\n",
            "  Attempting uninstall: nvidia-cuda-runtime-cu12\n",
            "    Found existing installation: nvidia-cuda-runtime-cu12 12.5.82\n",
            "    Uninstalling nvidia-cuda-runtime-cu12-12.5.82:\n",
            "      Successfully uninstalled nvidia-cuda-runtime-cu12-12.5.82\n",
            "  Attempting uninstall: nvidia-cuda-nvrtc-cu12\n",
            "    Found existing installation: nvidia-cuda-nvrtc-cu12 12.5.82\n",
            "    Uninstalling nvidia-cuda-nvrtc-cu12-12.5.82:\n",
            "      Successfully uninstalled nvidia-cuda-nvrtc-cu12-12.5.82\n",
            "  Attempting uninstall: nvidia-cuda-cupti-cu12\n",
            "    Found existing installation: nvidia-cuda-cupti-cu12 12.5.82\n",
            "    Uninstalling nvidia-cuda-cupti-cu12-12.5.82:\n",
            "      Successfully uninstalled nvidia-cuda-cupti-cu12-12.5.82\n",
            "  Attempting uninstall: nvidia-cublas-cu12\n",
            "    Found existing installation: nvidia-cublas-cu12 12.5.3.2\n",
            "    Uninstalling nvidia-cublas-cu12-12.5.3.2:\n",
            "      Successfully uninstalled nvidia-cublas-cu12-12.5.3.2\n",
            "  Attempting uninstall: numpy\n",
            "    Found existing installation: numpy 2.0.2\n",
            "    Uninstalling numpy-2.0.2:\n",
            "      Successfully uninstalled numpy-2.0.2\n",
            "  Attempting uninstall: nvidia-cusparse-cu12\n",
            "    Found existing installation: nvidia-cusparse-cu12 12.5.1.3\n",
            "    Uninstalling nvidia-cusparse-cu12-12.5.1.3:\n",
            "      Successfully uninstalled nvidia-cusparse-cu12-12.5.1.3\n",
            "  Attempting uninstall: nvidia-cudnn-cu12\n",
            "    Found existing installation: nvidia-cudnn-cu12 9.3.0.75\n",
            "    Uninstalling nvidia-cudnn-cu12-9.3.0.75:\n",
            "      Successfully uninstalled nvidia-cudnn-cu12-9.3.0.75\n",
            "  Attempting uninstall: nvidia-cusolver-cu12\n",
            "    Found existing installation: nvidia-cusolver-cu12 11.6.3.83\n",
            "    Uninstalling nvidia-cusolver-cu12-11.6.3.83:\n",
            "      Successfully uninstalled nvidia-cusolver-cu12-11.6.3.83\n",
            "\u001b[31mERROR: pip's dependency resolver does not currently take into account all the packages that are installed. This behaviour is the source of the following dependency conflicts.\n",
            "tensorflow 2.18.0 requires numpy<2.1.0,>=1.26.0, but you have numpy 1.25.2 which is incompatible.\n",
            "blosc2 3.2.1 requires numpy>=1.26, but you have numpy 1.25.2 which is incompatible.\u001b[0m\u001b[31m\n",
            "\u001b[0mSuccessfully installed cfgv-3.4.0 diffdist-0.1 distlib-0.3.9 faiss-cpu-1.10.0 identify-2.6.9 imgaug-0.4.0 json5-0.12.0 nodeenv-1.9.1 numpy-1.25.2 nvidia-cublas-cu12-12.4.5.8 nvidia-cuda-cupti-cu12-12.4.127 nvidia-cuda-nvrtc-cu12-12.4.127 nvidia-cuda-runtime-cu12-12.4.127 nvidia-cudnn-cu12-9.1.0.70 nvidia-cufft-cu12-11.2.1.3 nvidia-curand-cu12-10.3.5.147 nvidia-cusolver-cu12-11.6.1.9 nvidia-cusparse-cu12-12.3.1.170 nvidia-nvjitlink-cu12-12.4.127 openood-1.5 pre-commit-4.2.0 virtualenv-20.30.0\n"
          ]
        },
        {
          "output_type": "display_data",
          "data": {
            "application/vnd.colab-display-data+json": {
              "pip_warning": {
                "packages": [
                  "numpy"
                ]
              },
              "id": "9ae4330fcf424f8fb35604681381a465"
            }
          },
          "metadata": {}
        }
      ],
      "source": [
        "!pip install git+https://github.com/mwroffo/OpenOOD"
      ]
    },
    {
      "cell_type": "code",
      "source": [
        "!python3 -m pip install libmr"
      ],
      "metadata": {
        "id": "Hj8wksnecSI5",
        "outputId": "090b7531-ec39-4bb7-db46-dedd3d6063a9",
        "colab": {
          "base_uri": "https://localhost:8080/"
        }
      },
      "execution_count": 3,
      "outputs": [
        {
          "output_type": "stream",
          "name": "stdout",
          "text": [
            "Collecting libmr\n",
            "  Downloading libmr-0.1.9.zip (39 kB)\n",
            "  Preparing metadata (setup.py) ... \u001b[?25l\u001b[?25hdone\n",
            "Requirement already satisfied: cython in /usr/local/lib/python3.11/dist-packages (from libmr) (3.0.12)\n",
            "Requirement already satisfied: numpy in /usr/local/lib/python3.11/dist-packages (from libmr) (1.25.2)\n",
            "Building wheels for collected packages: libmr\n",
            "  Building wheel for libmr (setup.py) ... \u001b[?25l\u001b[?25hdone\n",
            "  Created wheel for libmr: filename=libmr-0.1.9-cp311-cp311-linux_x86_64.whl size=576576 sha256=914a3757efd4edaad5cc394f5245cbd23624d5b23c2cdc3eb276897a44580a49\n",
            "  Stored in directory: /root/.cache/pip/wheels/08/f2/e3/4ca7c4be959762da3d5e817e45880d6febaa557877c56ee83c\n",
            "Successfully built libmr\n",
            "Installing collected packages: libmr\n",
            "Successfully installed libmr-0.1.9\n"
          ]
        }
      ]
    },
    {
      "cell_type": "code",
      "source": [
        "# necessary imports\n",
        "import torch\n",
        "\n",
        "from openood.evaluation_api import Evaluator\n",
        "from openood.networks import ResNet18_32x32 # just a wrapper around the ResNet"
      ],
      "metadata": {
        "id": "dZ3_c6oHkfsb"
      },
      "execution_count": 4,
      "outputs": []
    },
    {
      "cell_type": "code",
      "source": [
        "# download our pre-trained CIFAR-10 classifier\n",
        "!gdown 1byGeYxM_PlLjT72wZsMQvP6popJeWBgt\n",
        "!unzip cifar10_res18_v1.5.zip"
      ],
      "metadata": {
        "colab": {
          "base_uri": "https://localhost:8080/"
        },
        "id": "Ye0PofseaDiJ",
        "outputId": "a787ea89-6027-4530-9ee5-bd4d3c21f8fc"
      },
      "execution_count": 5,
      "outputs": [
        {
          "output_type": "stream",
          "name": "stdout",
          "text": [
            "Downloading...\n",
            "From (original): https://drive.google.com/uc?id=1byGeYxM_PlLjT72wZsMQvP6popJeWBgt\n",
            "From (redirected): https://drive.google.com/uc?id=1byGeYxM_PlLjT72wZsMQvP6popJeWBgt&confirm=t&uuid=3d548224-d625-43b3-ac23-da6fcc741f05\n",
            "To: /content/cifar10_res18_v1.5.zip\n",
            "100% 375M/375M [00:02<00:00, 144MB/s]\n",
            "Archive:  cifar10_res18_v1.5.zip\n",
            "replace cifar10_resnet18_32x32_base_e100_lr0.1_default/s2/best_epoch99_acc0.9450.ckpt? [y]es, [n]o, [A]ll, [N]one, [r]ename: n\n",
            "replace cifar10_resnet18_32x32_base_e100_lr0.1_default/s2/config.yml? [y]es, [n]o, [A]ll, [N]one, [r]ename: n\n",
            "replace cifar10_resnet18_32x32_base_e100_lr0.1_default/s2/best.ckpt? [y]es, [n]o, [A]ll, [N]one, [r]ename: n\n",
            "replace cifar10_resnet18_32x32_base_e100_lr0.1_default/s2/last_epoch100_acc0.9420.ckpt? [y]es, [n]o, [A]ll, [N]one, [r]ename: n\n",
            "replace cifar10_resnet18_32x32_base_e100_lr0.1_default/s2/log.txt? [y]es, [n]o, [A]ll, [N]one, [r]ename: n\n",
            "replace cifar10_resnet18_32x32_base_e100_lr0.1_default/s1/config.yml? [y]es, [n]o, [A]ll, [N]one, [r]ename: n\n",
            "replace cifar10_resnet18_32x32_base_e100_lr0.1_default/s1/best.ckpt? [y]es, [n]o, [A]ll, [N]one, [r]ename: n\n",
            "replace cifar10_resnet18_32x32_base_e100_lr0.1_default/s1/best_epoch95_acc0.9500.ckpt? [y]es, [n]o, [A]ll, [N]one, [r]ename: n\n",
            "replace cifar10_resnet18_32x32_base_e100_lr0.1_default/s1/last_epoch100_acc0.9490.ckpt? [y]es, [n]o, [A]ll, [N]one, [r]ename: n\n",
            "replace cifar10_resnet18_32x32_base_e100_lr0.1_default/s1/log.txt? [y]es, [n]o, [A]ll, [N]one, [r]ename: n\n",
            "replace cifar10_resnet18_32x32_base_e100_lr0.1_default/s0/config.yml? [y]es, [n]o, [A]ll, [N]one, [r]ename: n\n",
            "replace cifar10_resnet18_32x32_base_e100_lr0.1_default/s0/best.ckpt? [y]es, [n]o, [A]ll, [N]one, [r]ename: n\n",
            "replace cifar10_resnet18_32x32_base_e100_lr0.1_default/s0/best_epoch96_acc0.9470.ckpt? [y]es, [n]o, [A]ll, [N]one, [r]ename: n\n",
            "replace cifar10_resnet18_32x32_base_e100_lr0.1_default/s0/last_epoch100_acc0.9430.ckpt? [y]es, [n]o, [A]ll, [N]one, [r]ename: n\n",
            "replace cifar10_resnet18_32x32_base_e100_lr0.1_default/s0/log.txt? [y]es, [n]o, [A]ll, [N]one, [r]ename: A\n",
            "  inflating: cifar10_resnet18_32x32_base_e100_lr0.1_default/s0/log.txt  \n"
          ]
        }
      ]
    },
    {
      "cell_type": "code",
      "source": [
        "# load the model\n",
        "net = ResNet18_32x32(num_classes=10)\n",
        "net.load_state_dict(\n",
        "    torch.load('./cifar10_resnet18_32x32_base_e100_lr0.1_default/s0/best.ckpt')\n",
        ")\n",
        "net.cuda()\n",
        "net.eval();"
      ],
      "metadata": {
        "id": "9e6mehWBa5Td"
      },
      "execution_count": 7,
      "outputs": []
    },
    {
      "cell_type": "code",
      "source": [
        "#@title choose an implemented postprocessor\n",
        "postprocessor_name = \"react\" #@param [\"openmax\", \"msp\", \"temp_scaling\", \"odin\", \"mds\", \"mds_ensemble\", \"rmds\", \"gram\", \"ebo\", \"gradnorm\", \"react\", \"mls\", \"klm\", \"vim\", \"knn\", \"dice\", \"rankfeat\", \"ash\", \"she\"] {allow-input: true}"
      ],
      "metadata": {
        "id": "ARg5sYI1m7eJ"
      },
      "execution_count": 8,
      "outputs": []
    },
    {
      "cell_type": "markdown",
      "source": [
        "2. Initialize an evaluator instance"
      ],
      "metadata": {
        "id": "awILVNEjcjF3"
      }
    },
    {
      "cell_type": "code",
      "source": [
        "# Notes:\n",
        "# 1) The evaluator will automatically download the required datasets given the\n",
        "# ID dataset specified by `id_name`\n",
        "\n",
        "# 2) Passing the `postprocessor_name` will use an implemented postprocessor. To\n",
        "# use your own postprocessor, just make sure that it inherits the BasePostprocessor\n",
        "# class (see openood/postprocessors/base_postprocessor.py) and pass it to the\n",
        "# `postprocessor` argument.\n",
        "\n",
        "# 3) `config_root` points to the directory with OpenOOD's configurations for the\n",
        "# postprocessors. By default the evaluator will look for the configs that come\n",
        "# with the OpenOOD module. If you want to use custom configs, clone the repo locally\n",
        "# and make modifications to OpenOOD/configs.\n",
        "\n",
        "# 4) As you will see when executing this cell, during the initialization the evaluator\n",
        "# will automatically run hyperparameter search on ID/OOD validation data (if applicable).\n",
        "# If you want to use a postprocessor with specific hyperparams, you need\n",
        "# to clone the OpenOOD repo (or just download the configs folder in the repo).\n",
        "# Then a) specify the hyperparams and b) set APS_mode to False in the respective postprocessor\n",
        "# config.\n",
        "\n",
        "evaluator = Evaluator(\n",
        "    net,\n",
        "    id_name='cifar10',                     # the target ID dataset\n",
        "    data_root='./data',                    # change if necessary\n",
        "    config_root=None,                      # see notes above\n",
        "    preprocessor=None,                     # default preprocessing for the target ID dataset\n",
        "    postprocessor_name=postprocessor_name, # the postprocessor to use\n",
        "    postprocessor=None,                    # if you want to use your own postprocessor\n",
        "    batch_size=200,                        # for certain methods the results can be slightly affected by batch size\n",
        "    shuffle=False,\n",
        "    num_workers=2)                         # could use more num_workers outside colab"
      ],
      "metadata": {
        "colab": {
          "base_uri": "https://localhost:8080/"
        },
        "id": "lZRgkhPimiDh",
        "outputId": "62d807ab-b1a6-4f0e-d6c3-96ec1d2034a1"
      },
      "execution_count": 9,
      "outputs": [
        {
          "output_type": "stream",
          "name": "stderr",
          "text": [
            "Downloading...\n",
            "From (original): https://drive.google.com/uc?id=1lI1j0_fDDvjIt9JlWAw09X8ks-yrR_H1\n",
            "From (redirected): https://drive.google.com/uc?id=1lI1j0_fDDvjIt9JlWAw09X8ks-yrR_H1&confirm=t&uuid=1d4ef9d2-de3d-4939-acbf-3b021fc9a3d9\n",
            "To: /content/data/benchmark_imglist.zip\n",
            "100%|██████████| 28.0M/28.0M [00:00<00:00, 47.4MB/s]\n"
          ]
        },
        {
          "output_type": "stream",
          "name": "stdout",
          "text": [
            "cifar10 needs download:\n",
            "./data/images_classic/cifar10\n"
          ]
        },
        {
          "output_type": "stream",
          "name": "stderr",
          "text": [
            "Downloading...\n",
            "From (original): https://drive.google.com/uc?id=1Co32RiiWe16lTaiOU6JMMnyUYS41IlO1\n",
            "From (redirected): https://drive.google.com/uc?id=1Co32RiiWe16lTaiOU6JMMnyUYS41IlO1&confirm=t&uuid=ebd192f5-0ea9-4d50-ba1b-fb2a6490d783\n",
            "To: /content/data/images_classic/cifar10/cifar10.zip\n",
            "100%|██████████| 143M/143M [00:01<00:00, 102MB/s]\n"
          ]
        },
        {
          "output_type": "stream",
          "name": "stdout",
          "text": [
            "cifar100 needs download:\n",
            "./data/images_classic/cifar100\n"
          ]
        },
        {
          "output_type": "stream",
          "name": "stderr",
          "text": [
            "Downloading...\n",
            "From (original): https://drive.google.com/uc?id=1PGKheHUsf29leJPPGuXqzLBMwl8qMF8_\n",
            "From (redirected): https://drive.google.com/uc?id=1PGKheHUsf29leJPPGuXqzLBMwl8qMF8_&confirm=t&uuid=2ccf54a9-5dd7-429d-9259-c559c20003d7\n",
            "To: /content/data/images_classic/cifar100/cifar100.zip\n",
            "100%|██████████| 141M/141M [00:03<00:00, 37.2MB/s]\n"
          ]
        },
        {
          "output_type": "stream",
          "name": "stdout",
          "text": [
            "tin needs download:\n",
            "./data/images_classic/tin\n"
          ]
        },
        {
          "output_type": "stream",
          "name": "stderr",
          "text": [
            "Downloading...\n",
            "From (original): https://drive.google.com/uc?id=1PZ-ixyx52U989IKsMA2OT-24fToTrelC\n",
            "From (redirected): https://drive.google.com/uc?id=1PZ-ixyx52U989IKsMA2OT-24fToTrelC&confirm=t&uuid=7b250584-963f-44d5-b140-458c97e3c7d8\n",
            "To: /content/data/images_classic/tin/tin.zip\n",
            "100%|██████████| 237M/237M [00:04<00:00, 47.7MB/s]\n"
          ]
        },
        {
          "output_type": "stream",
          "name": "stdout",
          "text": [
            "mnist needs download:\n",
            "./data/images_classic/mnist\n"
          ]
        },
        {
          "output_type": "stream",
          "name": "stderr",
          "text": [
            "Downloading...\n",
            "From (original): https://drive.google.com/uc?id=1CCHAGWqA1KJTFFswuF9cbhmB-j98Y1Sb\n",
            "From (redirected): https://drive.google.com/uc?id=1CCHAGWqA1KJTFFswuF9cbhmB-j98Y1Sb&confirm=t&uuid=d906fe56-aba1-49bd-baf4-0549ceb57410\n",
            "To: /content/data/images_classic/mnist/mnist.zip\n",
            "100%|██████████| 47.2M/47.2M [00:00<00:00, 103MB/s] \n"
          ]
        },
        {
          "output_type": "stream",
          "name": "stdout",
          "text": [
            "svhn needs download:\n",
            "./data/images_classic/svhn\n"
          ]
        },
        {
          "output_type": "stream",
          "name": "stderr",
          "text": [
            "Downloading...\n",
            "From (original): https://drive.google.com/uc?id=1DQfc11HOtB1nEwqS4pWUFp8vtQ3DczvI\n",
            "From (redirected): https://drive.google.com/uc?id=1DQfc11HOtB1nEwqS4pWUFp8vtQ3DczvI&confirm=t&uuid=3e8b8180-ab66-46d0-a7f4-b61d6c7b6757\n",
            "To: /content/data/images_classic/svhn/svhn.zip\n",
            "100%|██████████| 19.0M/19.0M [00:00<00:00, 27.3MB/s]\n"
          ]
        },
        {
          "output_type": "stream",
          "name": "stdout",
          "text": [
            "texture needs download:\n",
            "./data/images_classic/texture\n"
          ]
        },
        {
          "output_type": "stream",
          "name": "stderr",
          "text": [
            "Downloading...\n",
            "From (original): https://drive.google.com/uc?id=1OSz1m3hHfVWbRdmMwKbUzoU8Hg9UKcam\n",
            "From (redirected): https://drive.google.com/uc?id=1OSz1m3hHfVWbRdmMwKbUzoU8Hg9UKcam&confirm=t&uuid=02de9dc4-1eb6-4afe-86e5-10700f07532e\n",
            "To: /content/data/images_classic/texture/texture.zip\n",
            "100%|██████████| 626M/626M [00:03<00:00, 158MB/s]\n"
          ]
        },
        {
          "output_type": "stream",
          "name": "stdout",
          "text": [
            "places365 needs download:\n",
            "./data/images_classic/places365\n"
          ]
        },
        {
          "output_type": "stream",
          "name": "stderr",
          "text": [
            "Downloading...\n",
            "From (original): https://drive.google.com/uc?id=1Ec-LRSTf6u5vEctKX9vRp9OA6tqnJ0Ay\n",
            "From (redirected): https://drive.google.com/uc?id=1Ec-LRSTf6u5vEctKX9vRp9OA6tqnJ0Ay&confirm=t&uuid=7f153739-bcaa-4051-bff9-3f6a3d582228\n",
            "To: /content/data/images_classic/places365/places365.zip\n",
            "100%|██████████| 497M/497M [00:08<00:00, 62.0MB/s]\n",
            "Setup: 100%|██████████| 5/5 [00:01<00:00,  2.55it/s]\n"
          ]
        },
        {
          "output_type": "stream",
          "name": "stdout",
          "text": [
            "Starting automatic parameter search...\n",
            "Threshold at percentile 85 over id data is: 0.356078790128231\n"
          ]
        },
        {
          "output_type": "stream",
          "name": "stderr",
          "text": [
            "100%|██████████| 5/5 [00:01<00:00,  3.87it/s]\n",
            "100%|██████████| 5/5 [00:01<00:00,  4.13it/s]\n"
          ]
        },
        {
          "output_type": "stream",
          "name": "stdout",
          "text": [
            "Hyperparam: [85], auroc: 0.8205529999999999\n",
            "Threshold at percentile 90 over id data is: 0.45225103199481975\n"
          ]
        },
        {
          "output_type": "stream",
          "name": "stderr",
          "text": [
            "100%|██████████| 5/5 [00:00<00:00,  5.91it/s]\n",
            "100%|██████████| 5/5 [00:00<00:00,  5.18it/s]\n"
          ]
        },
        {
          "output_type": "stream",
          "name": "stdout",
          "text": [
            "Hyperparam: [90], auroc: 0.839714\n",
            "Threshold at percentile 95 over id data is: 0.621114119887352\n"
          ]
        },
        {
          "output_type": "stream",
          "name": "stderr",
          "text": [
            "100%|██████████| 5/5 [00:00<00:00,  6.10it/s]\n",
            "100%|██████████| 5/5 [00:00<00:00,  5.42it/s]\n"
          ]
        },
        {
          "output_type": "stream",
          "name": "stdout",
          "text": [
            "Hyperparam: [95], auroc: 0.860705\n",
            "Threshold at percentile 99 over id data is: 1.0516026592254641\n"
          ]
        },
        {
          "output_type": "stream",
          "name": "stderr",
          "text": [
            "100%|██████████| 5/5 [00:00<00:00,  6.19it/s]\n",
            "100%|██████████| 5/5 [00:00<00:00,  5.43it/s]"
          ]
        },
        {
          "output_type": "stream",
          "name": "stdout",
          "text": [
            "Hyperparam: [99], auroc: 0.8794759999999999\n",
            "Threshold at percentile 99 over id data is: 1.0516026592254641\n",
            "Final hyperparam: 99\n"
          ]
        },
        {
          "output_type": "stream",
          "name": "stderr",
          "text": [
            "\n"
          ]
        }
      ]
    },
    {
      "cell_type": "markdown",
      "source": [
        "3. Evaluate"
      ],
      "metadata": {
        "id": "YzfZdkwtGXj6"
      }
    },
    {
      "cell_type": "code",
      "source": [
        "# let's do standard OOD detection\n",
        "# full-spectrum detection is also available with\n",
        "# `fsood` being True if you are evaluating on ImageNet\n",
        "\n",
        "# the returned metrics is a dataframe which includes\n",
        "# AUROC, AUPR, FPR@95 etc.\n",
        "metrics = evaluator.eval_ood(fsood=False)"
      ],
      "metadata": {
        "id": "3jf2U83Apcru",
        "colab": {
          "base_uri": "https://localhost:8080/"
        },
        "outputId": "3511353c-e517-4de0-b8f8-04f00f8ab8a7"
      },
      "execution_count": 10,
      "outputs": [
        {
          "output_type": "stream",
          "name": "stdout",
          "text": [
            "Performing inference on cifar10 test set...\n"
          ]
        },
        {
          "output_type": "stream",
          "name": "stderr",
          "text": [
            "100%|██████████| 45/45 [00:07<00:00,  6.23it/s]"
          ]
        },
        {
          "output_type": "stream",
          "name": "stdout",
          "text": [
            "Processing near ood...\n",
            "Performing inference on cifar100 dataset...\n"
          ]
        },
        {
          "output_type": "stream",
          "name": "stderr",
          "text": [
            "\n",
            "100%|██████████| 45/45 [00:06<00:00,  7.42it/s]"
          ]
        },
        {
          "output_type": "stream",
          "name": "stdout",
          "text": [
            "Computing metrics on cifar100 dataset...\n",
            "FPR@95: 75.51, AUROC: 85.24 AUPR_IN: 80.67, AUPR_OUT: 85.83\n",
            "──────────────────────────────────────────────────────────────────────\n",
            "\n",
            "Performing inference on tin dataset...\n"
          ]
        },
        {
          "output_type": "stream",
          "name": "stderr",
          "text": [
            "\n",
            "100%|██████████| 39/39 [00:07<00:00,  5.48it/s]"
          ]
        },
        {
          "output_type": "stream",
          "name": "stdout",
          "text": [
            "Computing metrics on tin dataset...\n",
            "FPR@95: 67.63, AUROC: 87.70 AUPR_IN: 85.16, AUPR_OUT: 86.93\n",
            "──────────────────────────────────────────────────────────────────────\n",
            "\n",
            "Computing mean metrics...\n",
            "FPR@95: 71.57, AUROC: 86.47 AUPR_IN: 82.91, AUPR_OUT: 86.38\n",
            "──────────────────────────────────────────────────────────────────────\n",
            "\n",
            "Processing far ood...\n",
            "Performing inference on mnist dataset...\n"
          ]
        },
        {
          "output_type": "stream",
          "name": "stderr",
          "text": [
            "\n",
            "100%|██████████| 350/350 [00:51<00:00,  6.75it/s]"
          ]
        },
        {
          "output_type": "stream",
          "name": "stdout",
          "text": [
            "Computing metrics on mnist dataset...\n",
            "FPR@95: 18.42, AUROC: 95.38 AUPR_IN: 75.87, AUPR_OUT: 99.31\n",
            "──────────────────────────────────────────────────────────────────────\n",
            "\n",
            "Performing inference on svhn dataset...\n"
          ]
        },
        {
          "output_type": "stream",
          "name": "stderr",
          "text": [
            "\n",
            "100%|██████████| 131/131 [00:17<00:00,  7.43it/s]"
          ]
        },
        {
          "output_type": "stream",
          "name": "stdout",
          "text": [
            "Computing metrics on svhn dataset...\n",
            "FPR@95: 44.10, AUROC: 90.01 AUPR_IN: 75.58, AUPR_OUT: 95.46\n",
            "──────────────────────────────────────────────────────────────────────\n",
            "\n",
            "Performing inference on texture dataset...\n"
          ]
        },
        {
          "output_type": "stream",
          "name": "stderr",
          "text": [
            "\n",
            "100%|██████████| 29/29 [00:25<00:00,  1.15it/s]"
          ]
        },
        {
          "output_type": "stream",
          "name": "stdout",
          "text": [
            "Computing metrics on texture dataset...\n",
            "FPR@95: 67.37, AUROC: 87.27 AUPR_IN: 88.35, AUPR_OUT: 82.30\n",
            "──────────────────────────────────────────────────────────────────────\n",
            "\n",
            "Performing inference on places365 dataset...\n"
          ]
        },
        {
          "output_type": "stream",
          "name": "stderr",
          "text": [
            "\n",
            "100%|██████████| 176/176 [00:58<00:00,  3.00it/s]"
          ]
        },
        {
          "output_type": "stream",
          "name": "stdout",
          "text": [
            "Computing metrics on places365 dataset...\n",
            "FPR@95: 39.76, AUROC: 91.40 AUPR_IN: 71.91, AUPR_OUT: 97.39\n",
            "──────────────────────────────────────────────────────────────────────\n",
            "\n",
            "Computing mean metrics...\n",
            "FPR@95: 42.41, AUROC: 91.02 AUPR_IN: 77.93, AUPR_OUT: 93.61\n",
            "──────────────────────────────────────────────────────────────────────\n",
            "\n"
          ]
        },
        {
          "output_type": "stream",
          "name": "stderr",
          "text": [
            "\n",
            "ID Acc Eval: 100%|██████████| 45/45 [00:05<00:00,  7.72it/s]"
          ]
        },
        {
          "output_type": "stream",
          "name": "stdout",
          "text": [
            "           FPR@95  AUROC  AUPR_IN  AUPR_OUT   ACC\n",
            "cifar100    75.51  85.24    80.67     85.83 95.22\n",
            "tin         67.63  87.70    85.16     86.93 95.22\n",
            "nearood     71.57  86.47    82.91     86.38 95.22\n",
            "mnist       18.42  95.38    75.87     99.31 95.22\n",
            "svhn        44.10  90.01    75.58     95.46 95.22\n",
            "texture     67.37  87.27    88.35     82.30 95.22\n",
            "places365   39.76  91.40    71.91     97.39 95.22\n",
            "farood      42.41  91.02    77.93     93.61 95.22\n"
          ]
        },
        {
          "output_type": "stream",
          "name": "stderr",
          "text": [
            "\n"
          ]
        }
      ]
    },
    {
      "cell_type": "markdown",
      "source": [
        "4. What you can get from this evaluator"
      ],
      "metadata": {
        "id": "qcJDRkQAh4KK"
      }
    },
    {
      "cell_type": "code",
      "source": [
        "# there is some useful information stored as attributes\n",
        "# of the evaluator instance\n",
        "\n",
        "# evaluator.metrics stores all the evaluation results\n",
        "# evaluator.scores stores OOD scores and ID predictions\n",
        "\n",
        "# for more details please see OpenOOD/openood/evaluation_api/evaluator.py\n",
        "\n",
        "print('Components within evaluator.metrics:\\t', evaluator.metrics.keys())\n",
        "print('Components within evaluator.scores:\\t', evaluator.scores.keys())\n",
        "print('')\n",
        "print('The predicted ID class of the first 5 samples of CIFAR-100:\\t', evaluator.scores['ood']['near']['cifar100'][0][:5])\n",
        "print('The OOD score of the first 5 samples of CIFAR-100:\\t', evaluator.scores['ood']['near']['cifar100'][1][:5])"
      ],
      "metadata": {
        "colab": {
          "base_uri": "https://localhost:8080/"
        },
        "id": "WDWY0RopGtZ6",
        "outputId": "a781026d-d958-451f-fe1b-55da6724eb65"
      },
      "execution_count": 11,
      "outputs": [
        {
          "output_type": "stream",
          "name": "stdout",
          "text": [
            "Components within evaluator.metrics:\t dict_keys(['id_acc', 'csid_acc', 'ood', 'fsood'])\n",
            "Components within evaluator.scores:\t dict_keys(['id', 'csid', 'ood', 'id_preds', 'id_labels', 'csid_preds', 'csid_labels'])\n",
            "\n",
            "The predicted ID class of the first 5 samples of CIFAR-100:\t [9 9 9 9 9]\n",
            "The OOD score of the first 5 samples of CIFAR-100:\t [5.153 5.214 6.402 6.655 5.155]\n"
          ]
        }
      ]
    },
    {
      "cell_type": "markdown",
      "source": [
        "5. Extending OpenOOD for your own research/development\n",
        "\n",
        "We try to make OpenOOD extensible and convenient for everyone.\n",
        "\n",
        "\n",
        "You can evaluate your own trained model as long as it has necessary functions/methods that help it work with the postprocessors (see OpenOOD/openood/resnet18_32x32.py for example).\n",
        "\n",
        "\n",
        "You can also design your own postprocessor by inheriting the base class (OpenOOD/openood/postprocessors/base_postprocessor.py), and the resulting method can be readily evaluated with OpenOOD.\n",
        "\n",
        "\n",
        "Feel free to reach out to us if you have furthur suggestions on making OpenOOD more general and easy-to-use!"
      ],
      "metadata": {
        "id": "3o5l-Si_j66P"
      }
    }
  ]
}