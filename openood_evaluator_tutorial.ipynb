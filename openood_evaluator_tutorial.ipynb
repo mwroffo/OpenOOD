{
  "nbformat": 4,
  "nbformat_minor": 0,
  "metadata": {
    "colab": {
      "provenance": [],
      "gpuType": "T4",
      "include_colab_link": true
    },
    "kernelspec": {
      "name": "python3",
      "display_name": "Python 3"
    },
    "language_info": {
      "name": "python"
    },
    "accelerator": "GPU"
  },
  "cells": [
    {
      "cell_type": "markdown",
      "metadata": {
        "id": "view-in-github",
        "colab_type": "text"
      },
      "source": [
        "<a href=\"https://colab.research.google.com/github/mwroffo/OpenOOD/blob/main/openood_evaluator_tutorial.ipynb\" target=\"_parent\"><img src=\"https://colab.research.google.com/assets/colab-badge.svg\" alt=\"Open In Colab\"/></a>"
      ]
    },
    {
      "cell_type": "markdown",
      "source": [
        "In this notebook, we will showcase how to use OpenOOD's unified evaluator to easily evaluate OOD detection performance w.r.t. a certain ID dataset (e.g., CIFAR-10, ImageNet-1K), given a trained base classifier (e.g., ResNet) and a postprocessor (e.g., MSP, ReAct). Here we use CIFAR-10 as an example (due to speed concern), yet this tutorial also generalizes to larger datasets including ImageNet-1K. **Remember to use GPU in Edit / Notebook settings.**"
      ],
      "metadata": {
        "id": "sXtASgVQT8pZ"
      }
    },
    {
      "cell_type": "markdown",
      "source": [
        "1. Install OpenOOD with pip and make necessary preparation"
      ],
      "metadata": {
        "id": "k4KGROHCk5b-"
      }
    },
    {
      "cell_type": "code",
      "execution_count": null,
      "metadata": {
        "colab": {
          "base_uri": "https://localhost:8080/"
        },
        "id": "FZnYwXFgjBcE",
        "outputId": "e34ff26b-ac23-472d-e1dc-48aceaefbc88"
      },
      "outputs": [
        {
          "output_type": "stream",
          "name": "stdout",
          "text": [
            "Collecting git+https://github.com/zjysteven/OpenOOD\n",
            "  Cloning https://github.com/zjysteven/OpenOOD to /tmp/pip-req-build-l63u9xuh\n",
            "  Running command git clone --filter=blob:none --quiet https://github.com/zjysteven/OpenOOD /tmp/pip-req-build-l63u9xuh\n",
            "  Resolved https://github.com/zjysteven/OpenOOD to commit 6e0ade72ea2d959e0e5c4e5b5c9ef0cba60d4ab2\n",
            "  Preparing metadata (setup.py) ... \u001b[?25l\u001b[?25hdone\n",
            "Requirement already satisfied: torch>=1.13.1 in /usr/local/lib/python3.10/dist-packages (from openood==1.5) (2.0.1+cu118)\n",
            "Requirement already satisfied: torchvision>=0.13 in /usr/local/lib/python3.10/dist-packages (from openood==1.5) (0.15.2+cu118)\n",
            "Requirement already satisfied: scikit-learn in /usr/local/lib/python3.10/dist-packages (from openood==1.5) (1.2.2)\n",
            "Collecting json5 (from openood==1.5)\n",
            "  Downloading json5-0.9.14-py2.py3-none-any.whl (19 kB)\n",
            "Requirement already satisfied: matplotlib in /usr/local/lib/python3.10/dist-packages (from openood==1.5) (3.7.1)\n",
            "Requirement already satisfied: scipy in /usr/local/lib/python3.10/dist-packages (from openood==1.5) (1.11.2)\n",
            "Requirement already satisfied: tqdm in /usr/local/lib/python3.10/dist-packages (from openood==1.5) (4.66.1)\n",
            "Requirement already satisfied: pyyaml>=5.4.1 in /usr/local/lib/python3.10/dist-packages (from openood==1.5) (6.0.1)\n",
            "Collecting pre-commit (from openood==1.5)\n",
            "  Downloading pre_commit-3.4.0-py2.py3-none-any.whl (203 kB)\n",
            "\u001b[2K     \u001b[90m━━━━━━━━━━━━━━━━━━━━━━━━━━━━━━━━━━━━━━━\u001b[0m \u001b[32m203.7/203.7 kB\u001b[0m \u001b[31m4.8 MB/s\u001b[0m eta \u001b[36m0:00:00\u001b[0m\n",
            "\u001b[?25hRequirement already satisfied: opencv-python>=4.4.0.46 in /usr/local/lib/python3.10/dist-packages (from openood==1.5) (4.8.0.76)\n",
            "Requirement already satisfied: imgaug>=0.4.0 in /usr/local/lib/python3.10/dist-packages (from openood==1.5) (0.4.0)\n",
            "Requirement already satisfied: pandas in /usr/local/lib/python3.10/dist-packages (from openood==1.5) (1.5.3)\n",
            "Collecting diffdist>=0.1 (from openood==1.5)\n",
            "  Downloading diffdist-0.1.tar.gz (4.6 kB)\n",
            "  Preparing metadata (setup.py) ... \u001b[?25l\u001b[?25hdone\n",
            "Requirement already satisfied: Cython>=0.29.30 in /usr/local/lib/python3.10/dist-packages (from openood==1.5) (3.0.2)\n",
            "Collecting faiss-gpu>=1.7.2 (from openood==1.5)\n",
            "  Downloading faiss_gpu-1.7.2-cp310-cp310-manylinux_2_17_x86_64.manylinux2014_x86_64.whl (85.5 MB)\n",
            "\u001b[2K     \u001b[90m━━━━━━━━━━━━━━━━━━━━━━━━━━━━━━━━━━━━━━━━\u001b[0m \u001b[32m85.5/85.5 MB\u001b[0m \u001b[31m9.2 MB/s\u001b[0m eta \u001b[36m0:00:00\u001b[0m\n",
            "\u001b[?25hCollecting gdown>=4.7.1 (from openood==1.5)\n",
            "  Downloading gdown-4.7.1-py3-none-any.whl (15 kB)\n",
            "Collecting libmr>=0.1.9 (from openood==1.5)\n",
            "  Downloading libmr-0.1.9.zip (39 kB)\n",
            "  Preparing metadata (setup.py) ... \u001b[?25l\u001b[?25hdone\n",
            "Requirement already satisfied: filelock in /usr/local/lib/python3.10/dist-packages (from gdown>=4.7.1->openood==1.5) (3.12.2)\n",
            "Requirement already satisfied: requests[socks] in /usr/local/lib/python3.10/dist-packages (from gdown>=4.7.1->openood==1.5) (2.31.0)\n",
            "Requirement already satisfied: six in /usr/local/lib/python3.10/dist-packages (from gdown>=4.7.1->openood==1.5) (1.16.0)\n",
            "Requirement already satisfied: beautifulsoup4 in /usr/local/lib/python3.10/dist-packages (from gdown>=4.7.1->openood==1.5) (4.11.2)\n",
            "Requirement already satisfied: numpy>=1.15 in /usr/local/lib/python3.10/dist-packages (from imgaug>=0.4.0->openood==1.5) (1.23.5)\n",
            "Requirement already satisfied: Pillow in /usr/local/lib/python3.10/dist-packages (from imgaug>=0.4.0->openood==1.5) (9.4.0)\n",
            "Requirement already satisfied: scikit-image>=0.14.2 in /usr/local/lib/python3.10/dist-packages (from imgaug>=0.4.0->openood==1.5) (0.19.3)\n",
            "Requirement already satisfied: imageio in /usr/local/lib/python3.10/dist-packages (from imgaug>=0.4.0->openood==1.5) (2.31.3)\n",
            "Requirement already satisfied: Shapely in /usr/local/lib/python3.10/dist-packages (from imgaug>=0.4.0->openood==1.5) (2.0.1)\n",
            "Requirement already satisfied: typing-extensions in /usr/local/lib/python3.10/dist-packages (from torch>=1.13.1->openood==1.5) (4.5.0)\n",
            "Requirement already satisfied: sympy in /usr/local/lib/python3.10/dist-packages (from torch>=1.13.1->openood==1.5) (1.12)\n",
            "Requirement already satisfied: networkx in /usr/local/lib/python3.10/dist-packages (from torch>=1.13.1->openood==1.5) (3.1)\n",
            "Requirement already satisfied: jinja2 in /usr/local/lib/python3.10/dist-packages (from torch>=1.13.1->openood==1.5) (3.1.2)\n",
            "Requirement already satisfied: triton==2.0.0 in /usr/local/lib/python3.10/dist-packages (from torch>=1.13.1->openood==1.5) (2.0.0)\n",
            "Requirement already satisfied: cmake in /usr/local/lib/python3.10/dist-packages (from triton==2.0.0->torch>=1.13.1->openood==1.5) (3.27.4.1)\n",
            "Requirement already satisfied: lit in /usr/local/lib/python3.10/dist-packages (from triton==2.0.0->torch>=1.13.1->openood==1.5) (16.0.6)\n",
            "Requirement already satisfied: contourpy>=1.0.1 in /usr/local/lib/python3.10/dist-packages (from matplotlib->openood==1.5) (1.1.0)\n",
            "Requirement already satisfied: cycler>=0.10 in /usr/local/lib/python3.10/dist-packages (from matplotlib->openood==1.5) (0.11.0)\n",
            "Requirement already satisfied: fonttools>=4.22.0 in /usr/local/lib/python3.10/dist-packages (from matplotlib->openood==1.5) (4.42.1)\n",
            "Requirement already satisfied: kiwisolver>=1.0.1 in /usr/local/lib/python3.10/dist-packages (from matplotlib->openood==1.5) (1.4.5)\n",
            "Requirement already satisfied: packaging>=20.0 in /usr/local/lib/python3.10/dist-packages (from matplotlib->openood==1.5) (23.1)\n",
            "Requirement already satisfied: pyparsing>=2.3.1 in /usr/local/lib/python3.10/dist-packages (from matplotlib->openood==1.5) (3.1.1)\n",
            "Requirement already satisfied: python-dateutil>=2.7 in /usr/local/lib/python3.10/dist-packages (from matplotlib->openood==1.5) (2.8.2)\n",
            "Requirement already satisfied: pytz>=2020.1 in /usr/local/lib/python3.10/dist-packages (from pandas->openood==1.5) (2023.3.post1)\n",
            "Collecting cfgv>=2.0.0 (from pre-commit->openood==1.5)\n",
            "  Downloading cfgv-3.4.0-py2.py3-none-any.whl (7.2 kB)\n",
            "Collecting identify>=1.0.0 (from pre-commit->openood==1.5)\n",
            "  Downloading identify-2.5.29-py2.py3-none-any.whl (98 kB)\n",
            "\u001b[2K     \u001b[90m━━━━━━━━━━━━━━━━━━━━━━━━━━━━━━━━━━━━━━━━\u001b[0m \u001b[32m98.9/98.9 kB\u001b[0m \u001b[31m12.4 MB/s\u001b[0m eta \u001b[36m0:00:00\u001b[0m\n",
            "\u001b[?25hCollecting nodeenv>=0.11.1 (from pre-commit->openood==1.5)\n",
            "  Downloading nodeenv-1.8.0-py2.py3-none-any.whl (22 kB)\n",
            "Collecting virtualenv>=20.10.0 (from pre-commit->openood==1.5)\n",
            "  Downloading virtualenv-20.24.5-py3-none-any.whl (3.7 MB)\n",
            "\u001b[2K     \u001b[90m━━━━━━━━━━━━━━━━━━━━━━━━━━━━━━━━━━━━━━━━\u001b[0m \u001b[32m3.7/3.7 MB\u001b[0m \u001b[31m100.7 MB/s\u001b[0m eta \u001b[36m0:00:00\u001b[0m\n",
            "\u001b[?25hRequirement already satisfied: joblib>=1.1.1 in /usr/local/lib/python3.10/dist-packages (from scikit-learn->openood==1.5) (1.3.2)\n",
            "Requirement already satisfied: threadpoolctl>=2.0.0 in /usr/local/lib/python3.10/dist-packages (from scikit-learn->openood==1.5) (3.2.0)\n",
            "Requirement already satisfied: setuptools in /usr/local/lib/python3.10/dist-packages (from nodeenv>=0.11.1->pre-commit->openood==1.5) (67.7.2)\n",
            "Requirement already satisfied: tifffile>=2019.7.26 in /usr/local/lib/python3.10/dist-packages (from scikit-image>=0.14.2->imgaug>=0.4.0->openood==1.5) (2023.8.30)\n",
            "Requirement already satisfied: PyWavelets>=1.1.1 in /usr/local/lib/python3.10/dist-packages (from scikit-image>=0.14.2->imgaug>=0.4.0->openood==1.5) (1.4.1)\n",
            "Collecting distlib<1,>=0.3.7 (from virtualenv>=20.10.0->pre-commit->openood==1.5)\n",
            "  Downloading distlib-0.3.7-py2.py3-none-any.whl (468 kB)\n",
            "\u001b[2K     \u001b[90m━━━━━━━━━━━━━━━━━━━━━━━━━━━━━━━━━━━━━━\u001b[0m \u001b[32m468.9/468.9 kB\u001b[0m \u001b[31m47.6 MB/s\u001b[0m eta \u001b[36m0:00:00\u001b[0m\n",
            "\u001b[?25hRequirement already satisfied: platformdirs<4,>=3.9.1 in /usr/local/lib/python3.10/dist-packages (from virtualenv>=20.10.0->pre-commit->openood==1.5) (3.10.0)\n",
            "Requirement already satisfied: soupsieve>1.2 in /usr/local/lib/python3.10/dist-packages (from beautifulsoup4->gdown>=4.7.1->openood==1.5) (2.5)\n",
            "Requirement already satisfied: MarkupSafe>=2.0 in /usr/local/lib/python3.10/dist-packages (from jinja2->torch>=1.13.1->openood==1.5) (2.1.3)\n",
            "Requirement already satisfied: charset-normalizer<4,>=2 in /usr/local/lib/python3.10/dist-packages (from requests[socks]->gdown>=4.7.1->openood==1.5) (3.2.0)\n",
            "Requirement already satisfied: idna<4,>=2.5 in /usr/local/lib/python3.10/dist-packages (from requests[socks]->gdown>=4.7.1->openood==1.5) (3.4)\n",
            "Requirement already satisfied: urllib3<3,>=1.21.1 in /usr/local/lib/python3.10/dist-packages (from requests[socks]->gdown>=4.7.1->openood==1.5) (2.0.4)\n",
            "Requirement already satisfied: certifi>=2017.4.17 in /usr/local/lib/python3.10/dist-packages (from requests[socks]->gdown>=4.7.1->openood==1.5) (2023.7.22)\n",
            "Requirement already satisfied: PySocks!=1.5.7,>=1.5.6 in /usr/local/lib/python3.10/dist-packages (from requests[socks]->gdown>=4.7.1->openood==1.5) (1.7.1)\n",
            "Requirement already satisfied: mpmath>=0.19 in /usr/local/lib/python3.10/dist-packages (from sympy->torch>=1.13.1->openood==1.5) (1.3.0)\n",
            "Building wheels for collected packages: openood, diffdist, libmr\n",
            "  Building wheel for openood (setup.py) ... \u001b[?25l\u001b[?25hdone\n",
            "  Created wheel for openood: filename=openood-1.5-py3-none-any.whl size=248245 sha256=2549a084e93cf2c73cf318369e03cc1273d784259116154239bd0811f79211b2\n",
            "  Stored in directory: /tmp/pip-ephem-wheel-cache-jeq3nvr1/wheels/88/68/ef/3b2101bc6180589514cec031eadc149233763c333649d08a8c\n",
            "  Building wheel for diffdist (setup.py) ... \u001b[?25l\u001b[?25hdone\n",
            "  Created wheel for diffdist: filename=diffdist-0.1-py3-none-any.whl size=6535 sha256=c2bc58cd74cb2a0884aa321a664d0a20bf1dedd714537623850a73471954e090\n",
            "  Stored in directory: /root/.cache/pip/wheels/f1/29/f6/5331a14ab74e769799b76eb32460f447c7feb7375a16b07854\n",
            "  Building wheel for libmr (setup.py) ... \u001b[?25l\u001b[?25hdone\n",
            "  Created wheel for libmr: filename=libmr-0.1.9-cp310-cp310-linux_x86_64.whl size=549688 sha256=f626689eb8e9a9bfc65d9445d329adce2b376fb948a922ca22f445868359bfcd\n",
            "  Stored in directory: /root/.cache/pip/wheels/8a/e0/45/ec5f4f802b034150d6f5735922408cc0278bf85582b2a1a954\n",
            "Successfully built openood diffdist libmr\n",
            "Installing collected packages: json5, faiss-gpu, distlib, diffdist, virtualenv, nodeenv, libmr, identify, cfgv, pre-commit, gdown, openood\n",
            "  Attempting uninstall: gdown\n",
            "    Found existing installation: gdown 4.6.6\n",
            "    Uninstalling gdown-4.6.6:\n",
            "      Successfully uninstalled gdown-4.6.6\n",
            "Successfully installed cfgv-3.4.0 diffdist-0.1 distlib-0.3.7 faiss-gpu-1.7.2 gdown-4.7.1 identify-2.5.29 json5-0.9.14 libmr-0.1.9 nodeenv-1.8.0 openood-1.5 pre-commit-3.4.0 virtualenv-20.24.5\n"
          ]
        }
      ],
      "source": [
        "!pip install git+https://github.com/Jingkang50/OpenOOD"
      ]
    },
    {
      "cell_type": "code",
      "source": [
        "# necessary imports\n",
        "import torch\n",
        "\n",
        "from openood.evaluation_api import Evaluator\n",
        "from openood.networks import ResNet18_32x32 # just a wrapper around the ResNet"
      ],
      "metadata": {
        "id": "dZ3_c6oHkfsb"
      },
      "execution_count": null,
      "outputs": []
    },
    {
      "cell_type": "code",
      "source": [
        "# download our pre-trained CIFAR-10 classifier\n",
        "!gdown 1byGeYxM_PlLjT72wZsMQvP6popJeWBgt\n",
        "!unzip cifar10_res18_v1.5.zip"
      ],
      "metadata": {
        "colab": {
          "base_uri": "https://localhost:8080/"
        },
        "id": "Ye0PofseaDiJ",
        "outputId": "f17698b5-29ea-40e0-8392-87a15d3d0814"
      },
      "execution_count": null,
      "outputs": [
        {
          "output_type": "stream",
          "name": "stdout",
          "text": [
            "Downloading...\n",
            "From (uriginal): https://drive.google.com/uc?id=1byGeYxM_PlLjT72wZsMQvP6popJeWBgt\n",
            "From (redirected): https://drive.google.com/uc?id=1byGeYxM_PlLjT72wZsMQvP6popJeWBgt&confirm=t&uuid=8b644d3e-a9d8-4ac0-b5fe-7f6d0f2aafbe\n",
            "To: /content/cifar10_res18_v1.5.zip\n",
            "100% 375M/375M [00:07<00:00, 46.9MB/s]\n",
            "Archive:  cifar10_res18_v1.5.zip\n",
            "   creating: cifar10_resnet18_32x32_base_e100_lr0.1_default/\n",
            "   creating: cifar10_resnet18_32x32_base_e100_lr0.1_default/s2/\n",
            "  inflating: cifar10_resnet18_32x32_base_e100_lr0.1_default/s2/best_epoch99_acc0.9450.ckpt  \n",
            "  inflating: cifar10_resnet18_32x32_base_e100_lr0.1_default/s2/config.yml  \n",
            "  inflating: cifar10_resnet18_32x32_base_e100_lr0.1_default/s2/best.ckpt  \n",
            "  inflating: cifar10_resnet18_32x32_base_e100_lr0.1_default/s2/last_epoch100_acc0.9420.ckpt  \n",
            "  inflating: cifar10_resnet18_32x32_base_e100_lr0.1_default/s2/log.txt  \n",
            "   creating: cifar10_resnet18_32x32_base_e100_lr0.1_default/s1/\n",
            "  inflating: cifar10_resnet18_32x32_base_e100_lr0.1_default/s1/config.yml  \n",
            "  inflating: cifar10_resnet18_32x32_base_e100_lr0.1_default/s1/best.ckpt  \n",
            "  inflating: cifar10_resnet18_32x32_base_e100_lr0.1_default/s1/best_epoch95_acc0.9500.ckpt  \n",
            "  inflating: cifar10_resnet18_32x32_base_e100_lr0.1_default/s1/last_epoch100_acc0.9490.ckpt  \n",
            "  inflating: cifar10_resnet18_32x32_base_e100_lr0.1_default/s1/log.txt  \n",
            "   creating: cifar10_resnet18_32x32_base_e100_lr0.1_default/s0/\n",
            "  inflating: cifar10_resnet18_32x32_base_e100_lr0.1_default/s0/config.yml  \n",
            "  inflating: cifar10_resnet18_32x32_base_e100_lr0.1_default/s0/best.ckpt  \n",
            "  inflating: cifar10_resnet18_32x32_base_e100_lr0.1_default/s0/best_epoch96_acc0.9470.ckpt  \n",
            "  inflating: cifar10_resnet18_32x32_base_e100_lr0.1_default/s0/last_epoch100_acc0.9430.ckpt  \n",
            "  inflating: cifar10_resnet18_32x32_base_e100_lr0.1_default/s0/log.txt  \n"
          ]
        }
      ]
    },
    {
      "cell_type": "code",
      "source": [
        "# load the model\n",
        "net = ResNet18_32x32(num_classes=10)\n",
        "net.load_state_dict(\n",
        "    torch.load('./cifar10_resnet18_32x32_base_e100_lr0.1_default/s0/best.ckpt')\n",
        ")\n",
        "net.cuda()\n",
        "net.eval();"
      ],
      "metadata": {
        "id": "9e6mehWBa5Td"
      },
      "execution_count": null,
      "outputs": []
    },
    {
      "cell_type": "code",
      "source": [
        "#@title choose an implemented postprocessor\n",
        "postprocessor_name = \"react\" #@param [\"openmax\", \"msp\", \"temp_scaling\", \"odin\", \"mds\", \"mds_ensemble\", \"rmds\", \"gram\", \"ebo\", \"gradnorm\", \"react\", \"mls\", \"klm\", \"vim\", \"knn\", \"dice\", \"rankfeat\", \"ash\", \"she\"] {allow-input: true}"
      ],
      "metadata": {
        "id": "ARg5sYI1m7eJ"
      },
      "execution_count": null,
      "outputs": []
    },
    {
      "cell_type": "markdown",
      "source": [
        "2. Initialize an evaluator instance"
      ],
      "metadata": {
        "id": "awILVNEjcjF3"
      }
    },
    {
      "cell_type": "code",
      "source": [
        "# Notes:\n",
        "# 1) The evaluator will automatically download the required datasets given the\n",
        "# ID dataset specified by `id_name`\n",
        "\n",
        "# 2) Passing the `postprocessor_name` will use an implemented postprocessor. To\n",
        "# use your own postprocessor, just make sure that it inherits the BasePostprocessor\n",
        "# class (see openood/postprocessors/base_postprocessor.py) and pass it to the\n",
        "# `postprocessor` argument.\n",
        "\n",
        "# 3) `config_root` points to the directory with OpenOOD's configurations for the\n",
        "# postprocessors. By default the evaluator will look for the configs that come\n",
        "# with the OpenOOD module. If you want to use custom configs, clone the repo locally\n",
        "# and make modifications to OpenOOD/configs.\n",
        "\n",
        "# 4) As you will see when executing this cell, during the initialization the evaluator\n",
        "# will automatically run hyperparameter search on ID/OOD validation data (if applicable).\n",
        "# If you want to use a postprocessor with specific hyperparams, you need\n",
        "# to clone the OpenOOD repo (or just download the configs folder in the repo).\n",
        "# Then a) specify the hyperparams and b) set APS_mode to False in the respective postprocessor\n",
        "# config.\n",
        "\n",
        "evaluator = Evaluator(\n",
        "    net,\n",
        "    id_name='cifar10',                     # the target ID dataset\n",
        "    data_root='./data',                    # change if necessary\n",
        "    config_root=None,                      # see notes above\n",
        "    preprocessor=None,                     # default preprocessing for the target ID dataset\n",
        "    postprocessor_name=postprocessor_name, # the postprocessor to use\n",
        "    postprocessor=None,                    # if you want to use your own postprocessor\n",
        "    batch_size=200,                        # for certain methods the results can be slightly affected by batch size\n",
        "    shuffle=False,\n",
        "    num_workers=2)                         # could use more num_workers outside colab"
      ],
      "metadata": {
        "colab": {
          "base_uri": "https://localhost:8080/"
        },
        "id": "lZRgkhPimiDh",
        "outputId": "cca4af2b-6e52-4c63-c5d1-a48729153964"
      },
      "execution_count": null,
      "outputs": [
        {
          "output_type": "stream",
          "name": "stderr",
          "text": [
            "Downloading...\n",
            "From (uriginal): https://drive.google.com/uc?id=1XKzBdWCqg3vPoj-D32YixJyJJ0hL63gP\n",
            "From (redirected): https://drive.google.com/uc?id=1XKzBdWCqg3vPoj-D32YixJyJJ0hL63gP&confirm=t&uuid=83ab2219-3a64-4299-b386-419e14f547bf\n",
            "To: /content/data/benchmark_imglist.zip\n",
            "100%|██████████| 27.7M/27.7M [00:00<00:00, 31.7MB/s]\n"
          ]
        },
        {
          "output_type": "stream",
          "name": "stdout",
          "text": [
            "cifar10 needs download:\n",
            "./data/images_classic/cifar10\n"
          ]
        },
        {
          "output_type": "stream",
          "name": "stderr",
          "text": [
            "Downloading...\n",
            "From (uriginal): https://drive.google.com/uc?id=1Co32RiiWe16lTaiOU6JMMnyUYS41IlO1\n",
            "From (redirected): https://drive.google.com/uc?id=1Co32RiiWe16lTaiOU6JMMnyUYS41IlO1&confirm=t&uuid=d6e9ec36-4b9f-4321-a5f3-be224073d670\n",
            "To: /content/data/images_classic/cifar10/cifar10.zip\n",
            "100%|██████████| 143M/143M [00:00<00:00, 168MB/s]\n"
          ]
        },
        {
          "output_type": "stream",
          "name": "stdout",
          "text": [
            "cifar100 needs download:\n",
            "./data/images_classic/cifar100\n"
          ]
        },
        {
          "output_type": "stream",
          "name": "stderr",
          "text": [
            "Downloading...\n",
            "From (uriginal): https://drive.google.com/uc?id=1PGKheHUsf29leJPPGuXqzLBMwl8qMF8_\n",
            "From (redirected): https://drive.google.com/uc?id=1PGKheHUsf29leJPPGuXqzLBMwl8qMF8_&confirm=t&uuid=e4d71dfe-96d8-4f0f-acdc-350b19bfa39c\n",
            "To: /content/data/images_classic/cifar100/cifar100.zip\n",
            "100%|██████████| 141M/141M [00:00<00:00, 189MB/s]\n"
          ]
        },
        {
          "output_type": "stream",
          "name": "stdout",
          "text": [
            "tin needs download:\n",
            "./data/images_classic/tin\n"
          ]
        },
        {
          "output_type": "stream",
          "name": "stderr",
          "text": [
            "Downloading...\n",
            "From (uriginal): https://drive.google.com/uc?id=1PZ-ixyx52U989IKsMA2OT-24fToTrelC\n",
            "From (redirected): https://drive.google.com/uc?id=1PZ-ixyx52U989IKsMA2OT-24fToTrelC&confirm=t&uuid=be715787-f2a4-4dc2-a643-384593094ac1\n",
            "To: /content/data/images_classic/tin/tin.zip\n",
            "100%|██████████| 237M/237M [00:01<00:00, 203MB/s]\n"
          ]
        },
        {
          "output_type": "stream",
          "name": "stdout",
          "text": [
            "mnist needs download:\n",
            "./data/images_classic/mnist\n"
          ]
        },
        {
          "output_type": "stream",
          "name": "stderr",
          "text": [
            "Downloading...\n",
            "From (uriginal): https://drive.google.com/uc?id=1CCHAGWqA1KJTFFswuF9cbhmB-j98Y1Sb\n",
            "From (redirected): https://drive.google.com/uc?id=1CCHAGWqA1KJTFFswuF9cbhmB-j98Y1Sb&confirm=t&uuid=98cad1e0-d628-492b-9b6c-32bb15c7fa37\n",
            "To: /content/data/images_classic/mnist/mnist.zip\n",
            "100%|██████████| 47.2M/47.2M [00:00<00:00, 120MB/s]\n"
          ]
        },
        {
          "output_type": "stream",
          "name": "stdout",
          "text": [
            "svhn needs download:\n",
            "./data/images_classic/svhn\n"
          ]
        },
        {
          "output_type": "stream",
          "name": "stderr",
          "text": [
            "Downloading...\n",
            "From: https://drive.google.com/uc?id=1DQfc11HOtB1nEwqS4pWUFp8vtQ3DczvI\n",
            "To: /content/data/images_classic/svhn/svhn.zip\n",
            "100%|██████████| 19.0M/19.0M [00:00<00:00, 136MB/s] \n"
          ]
        },
        {
          "output_type": "stream",
          "name": "stdout",
          "text": [
            "texture needs download:\n",
            "./data/images_classic/texture\n"
          ]
        },
        {
          "output_type": "stream",
          "name": "stderr",
          "text": [
            "Downloading...\n",
            "From (uriginal): https://drive.google.com/uc?id=1OSz1m3hHfVWbRdmMwKbUzoU8Hg9UKcam\n",
            "From (redirected): https://drive.google.com/uc?id=1OSz1m3hHfVWbRdmMwKbUzoU8Hg9UKcam&confirm=t&uuid=eac96e88-2402-41f0-83d7-0e216df6ded1\n",
            "To: /content/data/images_classic/texture/texture.zip\n",
            "100%|██████████| 626M/626M [00:08<00:00, 75.5MB/s]\n"
          ]
        },
        {
          "output_type": "stream",
          "name": "stdout",
          "text": [
            "places365 needs download:\n",
            "./data/images_classic/places365\n"
          ]
        },
        {
          "output_type": "stream",
          "name": "stderr",
          "text": [
            "Downloading...\n",
            "From (uriginal): https://drive.google.com/uc?id=1Ec-LRSTf6u5vEctKX9vRp9OA6tqnJ0Ay\n",
            "From (redirected): https://drive.google.com/uc?id=1Ec-LRSTf6u5vEctKX9vRp9OA6tqnJ0Ay&confirm=t&uuid=9d7baa72-86de-4148-9108-1a30c404533f\n",
            "To: /content/data/images_classic/places365/places365.zip\n",
            "100%|██████████| 497M/497M [00:07<00:00, 69.5MB/s]\n",
            "Setup: 100%|██████████| 5/5 [00:07<00:00,  1.60s/it]\n"
          ]
        },
        {
          "output_type": "stream",
          "name": "stdout",
          "text": [
            "Starting automatic parameter search...\n",
            "Threshold at percentile 85 over id data is: 0.356078790128231\n"
          ]
        },
        {
          "output_type": "stream",
          "name": "stderr",
          "text": [
            "100%|██████████| 5/5 [00:01<00:00,  4.75it/s]\n",
            "100%|██████████| 5/5 [00:01<00:00,  3.20it/s]\n"
          ]
        },
        {
          "output_type": "stream",
          "name": "stdout",
          "text": [
            "Hyperparam: [85], auroc: 0.8205529999999999\n",
            "Threshold at percentile 90 over id data is: 0.45225103199481975\n"
          ]
        },
        {
          "output_type": "stream",
          "name": "stderr",
          "text": [
            "100%|██████████| 5/5 [00:01<00:00,  3.86it/s]\n",
            "100%|██████████| 5/5 [00:01<00:00,  2.90it/s]\n"
          ]
        },
        {
          "output_type": "stream",
          "name": "stdout",
          "text": [
            "Hyperparam: [90], auroc: 0.839714\n",
            "Threshold at percentile 95 over id data is: 0.621114119887352\n"
          ]
        },
        {
          "output_type": "stream",
          "name": "stderr",
          "text": [
            "100%|██████████| 5/5 [00:01<00:00,  3.01it/s]\n",
            "100%|██████████| 5/5 [00:01<00:00,  3.96it/s]\n"
          ]
        },
        {
          "output_type": "stream",
          "name": "stdout",
          "text": [
            "Hyperparam: [95], auroc: 0.860705\n",
            "Threshold at percentile 99 over id data is: 1.0516026592254641\n"
          ]
        },
        {
          "output_type": "stream",
          "name": "stderr",
          "text": [
            "100%|██████████| 5/5 [00:01<00:00,  4.86it/s]\n",
            "100%|██████████| 5/5 [00:01<00:00,  4.43it/s]"
          ]
        },
        {
          "output_type": "stream",
          "name": "stdout",
          "text": [
            "Hyperparam: [99], auroc: 0.8794759999999999\n",
            "Threshold at percentile 99 over id data is: 1.0516026592254641\n",
            "Final hyperparam: 99\n"
          ]
        },
        {
          "output_type": "stream",
          "name": "stderr",
          "text": [
            "\n"
          ]
        }
      ]
    },
    {
      "cell_type": "markdown",
      "source": [
        "3. Evaluate"
      ],
      "metadata": {
        "id": "YzfZdkwtGXj6"
      }
    },
    {
      "cell_type": "code",
      "source": [
        "# let's do standard OOD detection\n",
        "# full-spectrum detection is also available with\n",
        "# `fsood` being True if you are evaluating on ImageNet\n",
        "\n",
        "# the returned metrics is a dataframe which includes\n",
        "# AUROC, AUPR, FPR@95 etc.\n",
        "metrics = evaluator.eval_ood(fsood=False)"
      ],
      "metadata": {
        "id": "3jf2U83Apcru",
        "colab": {
          "base_uri": "https://localhost:8080/"
        },
        "outputId": "331dccb3-420a-475a-dd8c-d5b270e88eb5"
      },
      "execution_count": null,
      "outputs": [
        {
          "output_type": "stream",
          "name": "stdout",
          "text": [
            "Performing inference on cifar10 test set...\n"
          ]
        },
        {
          "output_type": "stream",
          "name": "stderr",
          "text": [
            "100%|██████████| 45/45 [00:10<00:00,  4.46it/s]"
          ]
        },
        {
          "output_type": "stream",
          "name": "stdout",
          "text": [
            "Processing near ood...\n",
            "Performing inference on cifar100 dataset...\n"
          ]
        },
        {
          "output_type": "stream",
          "name": "stderr",
          "text": [
            "\n",
            "100%|██████████| 45/45 [00:10<00:00,  4.29it/s]"
          ]
        },
        {
          "output_type": "stream",
          "name": "stdout",
          "text": [
            "Computing metrics on cifar100 dataset...\n",
            "FPR@95: 75.51, AUROC: 85.24 AUPR_IN: 85.83, AUPR_OUT: 80.67\n"
          ]
        },
        {
          "output_type": "stream",
          "name": "stderr",
          "text": [
            "\n"
          ]
        },
        {
          "output_type": "stream",
          "name": "stdout",
          "text": [
            "──────────────────────────────────────────────────────────────────────\n",
            "\n",
            "Performing inference on tin dataset...\n"
          ]
        },
        {
          "output_type": "stream",
          "name": "stderr",
          "text": [
            "100%|██████████| 39/39 [00:10<00:00,  3.70it/s]"
          ]
        },
        {
          "output_type": "stream",
          "name": "stdout",
          "text": [
            "Computing metrics on tin dataset...\n",
            "FPR@95: 67.63, AUROC: 87.70 AUPR_IN: 86.93, AUPR_OUT: 85.16\n",
            "──────────────────────────────────────────────────────────────────────\n",
            "\n",
            "Computing mean metrics...\n",
            "FPR@95: 71.57, AUROC: 86.47 AUPR_IN: 86.38, AUPR_OUT: 82.91\n",
            "──────────────────────────────────────────────────────────────────────\n",
            "\n",
            "Processing far ood...\n",
            "Performing inference on mnist dataset...\n"
          ]
        },
        {
          "output_type": "stream",
          "name": "stderr",
          "text": [
            "\n",
            "100%|██████████| 350/350 [01:18<00:00,  4.47it/s]"
          ]
        },
        {
          "output_type": "stream",
          "name": "stdout",
          "text": [
            "Computing metrics on mnist dataset...\n",
            "FPR@95: 18.42, AUROC: 95.38 AUPR_IN: 99.31, AUPR_OUT: 75.87\n",
            "──────────────────────────────────────────────────────────────────────\n",
            "\n",
            "Performing inference on svhn dataset...\n"
          ]
        },
        {
          "output_type": "stream",
          "name": "stderr",
          "text": [
            "\n",
            "100%|██████████| 131/131 [00:27<00:00,  4.77it/s]"
          ]
        },
        {
          "output_type": "stream",
          "name": "stdout",
          "text": [
            "Computing metrics on svhn dataset...\n",
            "FPR@95: 44.10, AUROC: 90.01 AUPR_IN: 95.46, AUPR_OUT: 75.58\n",
            "──────────────────────────────────────────────────────────────────────\n",
            "\n",
            "Performing inference on texture dataset...\n"
          ]
        },
        {
          "output_type": "stream",
          "name": "stderr",
          "text": [
            "\n",
            "100%|██████████| 29/29 [00:29<00:00,  1.02s/it]"
          ]
        },
        {
          "output_type": "stream",
          "name": "stdout",
          "text": [
            "Computing metrics on texture dataset...\n",
            "FPR@95: 67.37, AUROC: 87.27 AUPR_IN: 82.30, AUPR_OUT: 88.35\n",
            "──────────────────────────────────────────────────────────────────────\n",
            "\n"
          ]
        },
        {
          "output_type": "stream",
          "name": "stderr",
          "text": [
            "\n"
          ]
        },
        {
          "output_type": "stream",
          "name": "stdout",
          "text": [
            "Performing inference on places365 dataset...\n"
          ]
        },
        {
          "output_type": "stream",
          "name": "stderr",
          "text": [
            "100%|██████████| 176/176 [01:11<00:00,  2.46it/s]"
          ]
        },
        {
          "output_type": "stream",
          "name": "stdout",
          "text": [
            "Computing metrics on places365 dataset...\n",
            "FPR@95: 39.76, AUROC: 91.40 AUPR_IN: 97.39, AUPR_OUT: 71.91\n",
            "──────────────────────────────────────────────────────────────────────\n",
            "\n",
            "Computing mean metrics...\n",
            "FPR@95: 42.41, AUROC: 91.02 AUPR_IN: 93.61, AUPR_OUT: 77.93\n",
            "──────────────────────────────────────────────────────────────────────\n",
            "\n"
          ]
        },
        {
          "output_type": "stream",
          "name": "stderr",
          "text": [
            "\n",
            "ID Acc Eval: 100%|██████████| 45/45 [00:08<00:00,  5.36it/s]"
          ]
        },
        {
          "output_type": "stream",
          "name": "stdout",
          "text": [
            "           FPR@95  AUROC  AUPR_IN  AUPR_OUT   ACC\n",
            "cifar100    75.51  85.24    85.83     80.67 95.22\n",
            "tin         67.63  87.70    86.93     85.16 95.22\n",
            "nearood     71.57  86.47    86.38     82.91 95.22\n",
            "mnist       18.42  95.38    99.31     75.87 95.22\n",
            "svhn        44.10  90.01    95.46     75.58 95.22\n",
            "texture     67.37  87.27    82.30     88.35 95.22\n",
            "places365   39.76  91.40    97.39     71.91 95.22\n",
            "farood      42.41  91.02    93.61     77.93 95.22\n"
          ]
        },
        {
          "output_type": "stream",
          "name": "stderr",
          "text": [
            "\n"
          ]
        }
      ]
    },
    {
      "cell_type": "markdown",
      "source": [
        "4. What you can get from this evaluator"
      ],
      "metadata": {
        "id": "qcJDRkQAh4KK"
      }
    },
    {
      "cell_type": "code",
      "source": [
        "# there is some useful information stored as attributes\n",
        "# of the evaluator instance\n",
        "\n",
        "# evaluator.metrics stores all the evaluation results\n",
        "# evaluator.scores stores OOD scores and ID predictions\n",
        "\n",
        "# for more details please see OpenOOD/openood/evaluation_api/evaluator.py\n",
        "\n",
        "print('Components within evaluator.metrics:\\t', evaluator.metrics.keys())\n",
        "print('Components within evaluator.scores:\\t', evaluator.scores.keys())\n",
        "print('')\n",
        "print('The predicted ID class of the first 5 samples of CIFAR-100:\\t', evaluator.scores['ood']['near']['cifar100'][0][:5])\n",
        "print('The OOD score of the first 5 samples of CIFAR-100:\\t', evaluator.scores['ood']['near']['cifar100'][1][:5])"
      ],
      "metadata": {
        "colab": {
          "base_uri": "https://localhost:8080/"
        },
        "id": "WDWY0RopGtZ6",
        "outputId": "de4426a4-1f0f-490b-a466-757e53797fdb"
      },
      "execution_count": null,
      "outputs": [
        {
          "output_type": "stream",
          "name": "stdout",
          "text": [
            "Components within evaluator.metrics:\t dict_keys(['id_acc', 'csid_acc', 'ood', 'fsood'])\n",
            "Components within evaluator.scores:\t dict_keys(['id', 'csid', 'ood', 'id_preds', 'id_labels', 'csid_preds', 'csid_labels'])\n",
            "\n",
            "The predicted ID class of the first 5 samples of CIFAR-100:\t [9 9 9 9 9]\n",
            "The OOD score of the first 5 samples of CIFAR-100:\t [5.153 5.214 6.402 6.655 5.155]\n"
          ]
        }
      ]
    },
    {
      "cell_type": "markdown",
      "source": [
        "5. Extending OpenOOD for your own research/development\n",
        "\n",
        "We try to make OpenOOD extensible and convenient for everyone.\n",
        "\n",
        "\n",
        "You can evaluate your own trained model as long as it has necessary functions/methods that help it work with the postprocessors (see OpenOOD/openood/resnet18_32x32.py for example).\n",
        "\n",
        "\n",
        "You can also design your own postprocessor by inheriting the base class (OpenOOD/openood/postprocessors/base_postprocessor.py), and the resulting method can be readily evaluated with OpenOOD.\n",
        "\n",
        "\n",
        "Feel free to reach out to us if you have furthur suggestions on making OpenOOD more general and easy-to-use!"
      ],
      "metadata": {
        "id": "3o5l-Si_j66P"
      }
    }
  ]
}